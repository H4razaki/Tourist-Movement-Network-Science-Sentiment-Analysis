{
  "cells": [
    {
      "cell_type": "code",
      "source": [
        "import pandas as pd\n",
        "import numpy as np\n",
        "import glob\n",
        "import json\n",
        "import os"
      ],
      "metadata": {
        "id": "lpsNYMKQdnZo"
      },
      "execution_count": 1,
      "outputs": []
    },
    {
      "cell_type": "code",
      "source": [
        "# Path folder yang berisi file review Google Maps dalam bentuk file CSV\n",
        "folder_path_GoogleMaps = '/content/Google Maps'\n",
        "\n",
        "# Path folder yang berisi file review TripAdvisor dalam bentuk file JSON\n",
        "folder_path_TripAdvisor_JSON = '/content/TripAdvisor/JSON'\n",
        "\n",
        "# Path folder yang berisi file review TripAdvisor dalam bentuk file CSV\n",
        "folder_path_TripAdvisor_CSV = '/content/TripAdvisor/CSV'"
      ],
      "metadata": {
        "id": "TYMciOhMs1Er"
      },
      "execution_count": 2,
      "outputs": []
    },
    {
      "cell_type": "markdown",
      "source": [
        "# **Sentiment Analysis**"
      ],
      "metadata": {
        "id": "UglPUevrRo61"
      }
    },
    {
      "cell_type": "markdown",
      "source": [
        "### Dataset Pre-Processing"
      ],
      "metadata": {
        "id": "CYaCVGbq-xqq"
      }
    },
    {
      "cell_type": "markdown",
      "source": [
        "Import Dataset Google Maps"
      ],
      "metadata": {
        "id": "MDX17yngRrxB"
      }
    },
    {
      "cell_type": "code",
      "source": [
        "# Membaca semua file CSV di dalam folder dan menggabungkannya\n",
        "all_files = glob.glob(os.path.join(folder_path_GoogleMaps, \"*.csv\"))\n",
        "\n",
        "if not all_files:\n",
        "    print(\"Tidak ada file CSV di dalam folder.\")\n",
        "    gmaps_df = pd.DataFrame(columns=['Nama Akun', 'Waktu Kunjungan', 'Rating', 'Komentar', 'Lokasi Wisata'])\n",
        "else:\n",
        "    data_frames = [pd.read_csv(file) for file in all_files]\n",
        "\n",
        "    # Menggabungkan semua DataFrame menjadi satu\n",
        "    gmaps_raw_df = pd.concat(data_frames, ignore_index=True)\n",
        "\n",
        "    # Membuat DataFrame dengan kolom yang diinginkan\n",
        "    gmaps_df = pd.DataFrame({\n",
        "      'Nama Akun': gmaps_raw_df['name'],\n",
        "      'Waktu Kunjungan': gmaps_raw_df['publishedAtDate'],\n",
        "      'Rating': gmaps_raw_df['stars'],\n",
        "      'Komentar': gmaps_raw_df.apply(\n",
        "          lambda row: row['textTranslated'] if pd.notna(row['textTranslated']) and row['textTranslated'].strip() else row['text'],\n",
        "          axis=1\n",
        "      ),\n",
        "      'Lokasi Wisata': gmaps_raw_df['title']\n",
        "    })"
      ],
      "metadata": {
        "id": "HemimIgBu4nU",
        "colab": {
          "base_uri": "https://localhost:8080/"
        },
        "outputId": "3d9849d2-b4ba-4628-f74d-1e020fd37ec9"
      },
      "execution_count": 6,
      "outputs": [
        {
          "output_type": "stream",
          "name": "stdout",
          "text": [
            "Tidak ada file CSV di dalam folder.\n"
          ]
        }
      ]
    },
    {
      "cell_type": "markdown",
      "source": [
        "Import Dataset TripAdvisor"
      ],
      "metadata": {
        "id": "etRoluE6R6-V"
      }
    },
    {
      "cell_type": "code",
      "source": [
        "# Membaca semua file JSON di dalam folder dan menggabungkannya\n",
        "all_files_JSON = glob.glob(os.path.join(folder_path_TripAdvisor_JSON, \"*.json\"))\n",
        "\n",
        "if not all_files_JSON:\n",
        "    print(\"Tidak ada file CSV di dalam folder.\")\n",
        "    tripadvisor_df_JSON = pd.DataFrame(columns=['Nama Akun', 'Waktu Kunjungan', 'Rating', 'Komentar', 'Lokasi Wisata'])\n",
        "else:\n",
        "    data_frames = []\n",
        "\n",
        "    for file in all_files_JSON:\n",
        "        with open(file, 'r', encoding='utf-8') as f:\n",
        "            data = json.load(f)\n",
        "            df = pd.json_normalize(data)\n",
        "            data_frames.append(df)\n",
        "\n",
        "    # Menggabungkan semua DataFrame menjadi satu\n",
        "    tripadvisor_raw_df_JSON = pd.concat(data_frames, ignore_index=True)\n",
        "\n",
        "    tripadvisor_raw_df_JSON['placeInfo.name'] = np.where(\n",
        "        (tripadvisor_raw_df_JSON['placeInfo.name'] == \"Museum RA Kartini\") & (tripadvisor_raw_df_JSON['placeInfo.locationString'] == \"Jepara, Central Java, Java\"),\n",
        "        \"Museum R.A. Kartini Jepara\",\n",
        "        np.where(\n",
        "            tripadvisor_raw_df_JSON['placeInfo.name'] == \"Museum RA Kartini\",\n",
        "            \"Museum R.A. Kartini Rembang\",\n",
        "            tripadvisor_raw_df_JSON['placeInfo.name']\n",
        "        )\n",
        "    )\n",
        "\n",
        "    # Membuat DataFrame dengan kolom yang diinginkan\n",
        "    tripadvisor_df_JSON = pd.DataFrame({\n",
        "        'Nama Akun': tripadvisor_raw_df_JSON['user.name'],\n",
        "        'Waktu Kunjungan': tripadvisor_raw_df_JSON['publishedDate'],\n",
        "        'Rating': tripadvisor_raw_df_JSON['rating'],\n",
        "        'Komentar': tripadvisor_raw_df_JSON['text'],\n",
        "        'Lokasi Wisata': tripadvisor_raw_df_JSON['placeInfo.name']\n",
        "    })"
      ],
      "metadata": {
        "id": "NjaOJcNGdgR9",
        "colab": {
          "base_uri": "https://localhost:8080/"
        },
        "outputId": "5b179ea5-068e-451f-e6ff-b152bb2ccbca"
      },
      "execution_count": 7,
      "outputs": [
        {
          "output_type": "stream",
          "name": "stdout",
          "text": [
            "Tidak ada file CSV di dalam folder.\n"
          ]
        }
      ]
    },
    {
      "cell_type": "code",
      "source": [
        "# Mengambil semua file CSV dalam folder\n",
        "all_files_CSV = glob.glob(os.path.join(folder_path_TripAdvisor_CSV, \"*.csv\"))\n",
        "\n",
        "# Cek apakah ada file CSV dalam folder\n",
        "if not all_files_CSV:\n",
        "    print(\"Tidak ada file CSV di dalam folder.\")\n",
        "    tripadvisor_df_CSV = pd.DataFrame(columns=['Nama Akun', 'Waktu Kunjungan', 'Rating', 'Komentar', 'Lokasi Wisata'])\n",
        "else:\n",
        "    # Membaca dan menggabungkan semua file CSV\n",
        "    data_frames = [pd.read_csv(file) for file in all_files_CSV]\n",
        "    tripadvisor_raw_df_CSV = pd.concat(data_frames, ignore_index=True)\n",
        "\n",
        "    # Membuat DataFrame dengan kolom yang diinginkan\n",
        "    tripadvisor_df_CSV = pd.DataFrame({\n",
        "        'Nama Akun': tripadvisor_raw_df_CSV['username'],\n",
        "        'Waktu Kunjungan': tripadvisor_raw_df_CSV['publishedDate'],\n",
        "        'Rating': tripadvisor_raw_df_CSV['rating'],\n",
        "        'Komentar': tripadvisor_raw_df_CSV['text'],\n",
        "        'Lokasi Wisata': tripadvisor_raw_df_CSV['placeName']\n",
        "    })\n",
        "\n",
        "    print(\"Data berhasil digabungkan.\")"
      ],
      "metadata": {
        "colab": {
          "base_uri": "https://localhost:8080/"
        },
        "id": "Bz73HmuNyEgL",
        "outputId": "85ed84fd-a98b-40a2-b608-9b2fee2e34fd"
      },
      "execution_count": 8,
      "outputs": [
        {
          "output_type": "stream",
          "name": "stdout",
          "text": [
            "Tidak ada file CSV di dalam folder.\n"
          ]
        }
      ]
    },
    {
      "cell_type": "code",
      "source": [
        "tripadvisor_df = pd.concat([tripadvisor_df_CSV, tripadvisor_df_JSON], ignore_index=True)"
      ],
      "metadata": {
        "id": "6InrUkDT5eoB"
      },
      "execution_count": 9,
      "outputs": []
    },
    {
      "cell_type": "markdown",
      "source": [
        "Normalisasi Kolom Lokasi Wisata"
      ],
      "metadata": {
        "id": "O1oxUIjbSEPm"
      }
    },
    {
      "cell_type": "code",
      "source": [
        "gmaps_df[\"Lokasi Wisata\"] = gmaps_df[\"Lokasi Wisata\"].replace(\"MAKAM SUNAN POJOK ꦩꦏꦩ꧀ꦱꦸꦤꦤ꧀ꦥꦴꦗꦴꦏ꧀\", \"Makam Sunan Pojok\")\n",
        "gmaps_df[\"Lokasi Wisata\"] = gmaps_df[\"Lokasi Wisata\"].replace(\"Candi Pendem Sengi\", \"Pendem Sengi Temple\")\n",
        "gmaps_df[\"Lokasi Wisata\"] = gmaps_df[\"Lokasi Wisata\"].replace(\"Gondosuli Temple And Inscription\", \"Gondosuli Temple\")\n",
        "gmaps_df[\"Lokasi Wisata\"] = gmaps_df[\"Lokasi Wisata\"].replace(\"MAKAM GEDONG AGENG Jipang\", \"Makam Gedong Ageng Jipang\")\n",
        "gmaps_df[\"Lokasi Wisata\"] = gmaps_df[\"Lokasi Wisata\"].replace(\"MAKAM SYECH JANGKUNG (SARIDIN) WALIYUALLAH\", \"Makam Syaikh Jangkung Waliyuallah\")\n",
        "gmaps_df[\"Lokasi Wisata\"] = gmaps_df[\"Lokasi Wisata\"].replace(\"Tomb of Queen Kalinyamat\", \"Makam Ratu Kalinyamat\")\n",
        "gmaps_df[\"Lokasi Wisata\"] = gmaps_df[\"Lokasi Wisata\"].replace(\"Tomb of R.Ng. Yasadipura I\", \"Makam R.Ng. Yasadipura I\")\n",
        "gmaps_df[\"Lokasi Wisata\"] = gmaps_df[\"Lokasi Wisata\"].replace(\"Tomb of Sunan Katong Kaliwungu\", \"Makam Sunan Katong Kaliwungu\")\n",
        "gmaps_df[\"Lokasi Wisata\"] = gmaps_df[\"Lokasi Wisata\"].replace(\"Tomb of Sunan Muria\", \"Makam Sunan Muria\")\n",
        "gmaps_df[\"Lokasi Wisata\"] = gmaps_df[\"Lokasi Wisata\"].replace(\"Tomb of Waliyyulloh Syeikh Maulana Jumadil Kubro\", \"Makam Syaikh Maulana Jumadil Kubro\")\n",
        "gmaps_df[\"Lokasi Wisata\"] = gmaps_df[\"Lokasi Wisata\"].replace(\"Makam syech Munadi nyatnyono\", \"Makam Syaikh Munadi Nyatnyono\")\n",
        "gmaps_df[\"Lokasi Wisata\"] = gmaps_df[\"Lokasi Wisata\"].replace(\"Maqbaroh Syaikh Mutamakkin Waliyyullah\", \"Makam Syaikh Mutamakkin Waliyyullah\")\n",
        "gmaps_df[\"Lokasi Wisata\"] = gmaps_df[\"Lokasi Wisata\"].replace(\"Museum RA Kartini\", \"Museum R.A. Kartini Jepara\")"
      ],
      "metadata": {
        "id": "DignSBOvvCFm"
      },
      "execution_count": null,
      "outputs": []
    },
    {
      "cell_type": "code",
      "source": [
        "tripadvisor_df[\"Lokasi Wisata\"] = tripadvisor_df[\"Lokasi Wisata\"].replace(\"Banyunibo\", \"Banyunibo Temple\")\n",
        "tripadvisor_df[\"Lokasi Wisata\"] = tripadvisor_df[\"Lokasi Wisata\"].replace(\"Candi Mendut (Temple)\", \"Mendut Buddhist Monastery\")\n",
        "tripadvisor_df[\"Lokasi Wisata\"] = tripadvisor_df[\"Lokasi Wisata\"].replace(\"Candi Pawon\", \"Pawon Temple\")\n",
        "tripadvisor_df[\"Lokasi Wisata\"] = tripadvisor_df[\"Lokasi Wisata\"].replace(\"Demak Great Mosque\", \"Masjid Agung Demak\")\n",
        "tripadvisor_df[\"Lokasi Wisata\"] = tripadvisor_df[\"Lokasi Wisata\"].replace(\"Imogiri Kings Cemetery\", \"Makam Raja-Raja Imogiri\")\n",
        "tripadvisor_df[\"Lokasi Wisata\"] = tripadvisor_df[\"Lokasi Wisata\"].replace(\"Makam Ra Kartini\", \"Makam Raden Ayu Kartini\")\n",
        "tripadvisor_df[\"Lokasi Wisata\"] = tripadvisor_df[\"Lokasi Wisata\"].replace(\"Mataram Kings Cemetery Kotagede\", \"Makam Raja-Raja Mataram Kotagede\")\n",
        "tripadvisor_df[\"Lokasi Wisata\"] = tripadvisor_df[\"Lokasi Wisata\"].replace(\"Menara Kudus Mosque\", \"Masjid Al-Aqsha Menara Kudus\")\n",
        "tripadvisor_df[\"Lokasi Wisata\"] = tripadvisor_df[\"Lokasi Wisata\"].replace(\"Museum Ranggawarsita\", \"Museum Ronggo Warsito\")\n",
        "tripadvisor_df[\"Lokasi Wisata\"] = tripadvisor_df[\"Lokasi Wisata\"].replace(\"Plaosan Temple\", \"Plaosan Lor Temple\")\n",
        "tripadvisor_df[\"Lokasi Wisata\"] = tripadvisor_df[\"Lokasi Wisata\"].replace(\"Sunan Bayat Ki Ageng Pandanaran Cemetery\", \"Makam Sunan Bayat Ki Ageng Pandanaran\")\n",
        "tripadvisor_df[\"Lokasi Wisata\"] = tripadvisor_df[\"Lokasi Wisata\"].replace(\"Sunan Bonang Tomb\", \"Makam Sunan Bonang Lasem\")\n",
        "tripadvisor_df[\"Lokasi Wisata\"] = tripadvisor_df[\"Lokasi Wisata\"].replace(\"Sunan kalijaga Tomb\", \"Makam Sunan Kalijaga\")\n",
        "tripadvisor_df[\"Lokasi Wisata\"] = tripadvisor_df[\"Lokasi Wisata\"].replace(\"Tomb of Sunan Muria\", \"Makam Sunan Muria\")\n",
        "tripadvisor_df[\"Lokasi Wisata\"] = tripadvisor_df[\"Lokasi Wisata\"].replace(\"Yogyakarta Palace\", \"Keraton Ngayogyakarta Hadiningrat\")\n",
        "tripadvisor_df[\"Lokasi Wisata\"] = tripadvisor_df[\"Lokasi Wisata\"].replace(\"Prambanan Temples\", \"Prambanan Temple\")"
      ],
      "metadata": {
        "id": "0CY4tZ8dvEpA"
      },
      "execution_count": null,
      "outputs": []
    },
    {
      "cell_type": "markdown",
      "source": [
        "Melihat list tempat wisata di variable gmaps_df"
      ],
      "metadata": {
        "id": "kNwQjpOxBbGj"
      }
    },
    {
      "cell_type": "code",
      "source": [
        "unique_values_sorted = sorted(gmaps_df[\"Lokasi Wisata\"].unique())\n",
        "\n",
        "for i, value in enumerate(unique_values_sorted, start=1):\n",
        "    print(f\"{i}. {value}\")"
      ],
      "metadata": {
        "id": "PCf-Yp7-iUKE",
        "colab": {
          "base_uri": "https://localhost:8080/"
        },
        "outputId": "379a775f-e955-4c35-b13e-30666138ee2f"
      },
      "execution_count": null,
      "outputs": [
        {
          "output_type": "stream",
          "name": "stdout",
          "text": [
            "1. Borobudur Temple\n",
            "2. Prambanan Temple\n"
          ]
        }
      ]
    },
    {
      "cell_type": "markdown",
      "source": [
        "Melihat list tempat wisata di variable tripadvisor_df"
      ],
      "metadata": {
        "id": "oT2CfxPgBleO"
      }
    },
    {
      "cell_type": "code",
      "source": [
        "unique_values_sorted = sorted(tripadvisor_df[\"Lokasi Wisata\"].unique())\n",
        "\n",
        "for i, value in enumerate(unique_values_sorted, start=1):\n",
        "    print(f\"{i}. {value}\")"
      ],
      "metadata": {
        "id": "bCp3ngTviYTY",
        "colab": {
          "base_uri": "https://localhost:8080/"
        },
        "outputId": "0c40b6a5-89e0-4e8c-deb9-8cb6134d2269"
      },
      "execution_count": null,
      "outputs": [
        {
          "output_type": "stream",
          "name": "stdout",
          "text": [
            "1. Borobudur Temple\n",
            "2. Keraton Ngayogyakarta Hadiningrat\n",
            "3. Prambanan Temple\n"
          ]
        }
      ]
    },
    {
      "cell_type": "markdown",
      "source": [
        "Menggabungkan Dataset Google Maps dan TripAdvisor"
      ],
      "metadata": {
        "id": "XRkjyz2ISLpG"
      }
    },
    {
      "cell_type": "code",
      "source": [
        "review_df = pd.concat([gmaps_df, tripadvisor_df], ignore_index=True)"
      ],
      "metadata": {
        "id": "PvRR7HdXzIu1"
      },
      "execution_count": null,
      "outputs": []
    },
    {
      "cell_type": "markdown",
      "source": [
        "Drop Missing Values dan Duplicate Values"
      ],
      "metadata": {
        "id": "CoWHP0AVSUV1"
      }
    },
    {
      "cell_type": "code",
      "source": [
        "review_df = review_df.dropna()"
      ],
      "metadata": {
        "id": "5ONJhqyvSH7p"
      },
      "execution_count": null,
      "outputs": []
    },
    {
      "cell_type": "code",
      "source": [
        "review_df = review_df.drop_duplicates()"
      ],
      "metadata": {
        "id": "80L0xM4B2Tu5"
      },
      "execution_count": null,
      "outputs": []
    },
    {
      "cell_type": "markdown",
      "source": [
        "Normalisasi Waktu Kunjungan"
      ],
      "metadata": {
        "id": "PDfkix4SkHiV"
      }
    },
    {
      "cell_type": "code",
      "source": [
        "from datetime import datetime\n",
        "\n",
        "# Fungsi normalisasi tanggal\n",
        "def normalize_date(date):\n",
        "    try:\n",
        "        # Coba format pertama (DD/MM/YYYY)\n",
        "        normalized_date = datetime.strptime(date, \"%d/%m/%Y\")\n",
        "    except ValueError:\n",
        "        try:\n",
        "            # Coba format kedua (ISO 8601 dengan Z di akhir)\n",
        "            normalized_date = datetime.strptime(date, \"%Y-%m-%dT%H:%M:%S.%fZ\")\n",
        "        except ValueError:\n",
        "            try:\n",
        "                # Coba format kedua (ISO 8601 dengan Z di akhir)\n",
        "                normalized_date = datetime.strptime(date, \"%Y-%m-%d\")\n",
        "            except ValueError:\n",
        "                try:\n",
        "                    # Coba format kedua (ISO 8601 dengan Z di akhir)\n",
        "                    normalized_date = datetime.strptime(date, \"%m/%d/%Y\")\n",
        "                except ValueError:\n",
        "                    # Jika format tidak sesuai, kembalikan tanggal asli\n",
        "                    return date\n",
        "    # Format tanggal ke \"DD - MM - YYYY\"\n",
        "    return normalized_date.strftime(\"%d/%m/%Y\")\n",
        "\n",
        "# Terapkan fungsi normalisasi pada kolom 'Waktu Kunjungan'\n",
        "review_df['Waktu Kunjungan'] = review_df['Waktu Kunjungan'].apply(normalize_date)"
      ],
      "metadata": {
        "id": "piivK_mFkL7Y"
      },
      "execution_count": null,
      "outputs": []
    },
    {
      "cell_type": "markdown",
      "source": [
        "Lowercase Kolom Komentar"
      ],
      "metadata": {
        "id": "wdkFUze1SyAZ"
      }
    },
    {
      "cell_type": "code",
      "source": [
        "review_df[\"Komentar\"] = review_df[\"Komentar\"].str.lower()"
      ],
      "metadata": {
        "id": "WzvmXuOoS241"
      },
      "execution_count": null,
      "outputs": []
    },
    {
      "cell_type": "markdown",
      "source": [
        "Membersihkan Kolom 'Komentar' dari Simbol atau Non-Abjad"
      ],
      "metadata": {
        "id": "yf7ufVMWSm4R"
      }
    },
    {
      "cell_type": "code",
      "source": [
        "import nltk\n",
        "nltk.download('stopwords')\n",
        "nltk.download('punkt_tab')\n",
        "nltk.download('wordnet')\n",
        "nltk.download('words')\n",
        "\n",
        "from nltk.corpus import stopwords, words\n",
        "import re\n",
        "from nltk.tokenize import word_tokenize\n",
        "from nltk.stem import WordNetLemmatizer"
      ],
      "metadata": {
        "id": "JCRucnUxn7XH",
        "colab": {
          "base_uri": "https://localhost:8080/"
        },
        "outputId": "13ce6d40-6a0e-43d5-86a8-8d5c299bf636"
      },
      "execution_count": null,
      "outputs": [
        {
          "output_type": "stream",
          "name": "stderr",
          "text": [
            "[nltk_data] Downloading package stopwords to /root/nltk_data...\n",
            "[nltk_data]   Package stopwords is already up-to-date!\n",
            "[nltk_data] Downloading package punkt_tab to /root/nltk_data...\n",
            "[nltk_data]   Package punkt_tab is already up-to-date!\n",
            "[nltk_data] Downloading package wordnet to /root/nltk_data...\n",
            "[nltk_data]   Package wordnet is already up-to-date!\n",
            "[nltk_data] Downloading package words to /root/nltk_data...\n",
            "[nltk_data]   Package words is already up-to-date!\n"
          ]
        }
      ]
    },
    {
      "cell_type": "code",
      "source": [
        "# Load kata-kata dalam bahasa Inggris\n",
        "english_words = set(words.words())\n",
        "\n",
        "def clean_comment(comment):\n",
        "    # Ubah simbol seperti -, ,, . menjadi spasi dan hapus apapun yang bukan alphabet\n",
        "    comment = re.sub(r'[^a-zA-Z\\s]', ' ', comment)\n",
        "    comment = comment.lower()  # Ubah menjadi huruf kecil\n",
        "\n",
        "    # Tokenisasi\n",
        "    words_in_comment = word_tokenize(comment)\n",
        "\n",
        "    # Hapus stopwords dan kata yang bukan dalam bahasa Inggris\n",
        "    valid_words = [word for word in words_in_comment\n",
        "                   if word in english_words and len(word) > 1]\n",
        "\n",
        "    # Gabungkan kembali kata-kata yang valid\n",
        "    return ' '.join(valid_words)\n",
        "\n",
        "# Terapkan fungsi ke kolom 'Komentar'\n",
        "review_df['Komentar'] = review_df['Komentar'].apply(clean_comment)\n",
        "\n",
        "# Hapus baris yang kosong di kolom 'Komentar'\n",
        "review_df = review_df[review_df['Komentar'].str.strip() != '']"
      ],
      "metadata": {
        "id": "Ilx0Z7plbVC8"
      },
      "execution_count": null,
      "outputs": []
    },
    {
      "cell_type": "markdown",
      "source": [
        "Remove Stopword & Lemmatize"
      ],
      "metadata": {
        "id": "U7R7d2m9_43f"
      }
    },
    {
      "cell_type": "code",
      "source": [
        "# Inisialisasi lemmatizer dan stopwords\n",
        "lemmatizer = WordNetLemmatizer()\n",
        "stop_words = set(stopwords.words('english'))\n",
        "\n",
        "# Fungsi untuk menghapus stopwords dan lemmatization\n",
        "def preprocess_text(text):\n",
        "    # Tokenisasi kalimat\n",
        "    words = word_tokenize(text)\n",
        "    # Hapus stopwords dan lemmatization\n",
        "    processed_words = [lemmatizer.lemmatize(word.lower()) for word in words if word.lower() not in stop_words]\n",
        "    return \" \".join(processed_words)\n",
        "\n",
        "# Terapkan pada kolom 'Komentar' di review_df\n",
        "review_df['Komentar'] = review_df['Komentar'].apply(preprocess_text)\n",
        "\n",
        "# Hapus baris dengan kolom 'Komentar' yang kosong atau hanya spasi\n",
        "review_df = review_df[review_df['Komentar'].str.strip().astype(bool)]"
      ],
      "metadata": {
        "id": "JrMyYogEUh_W"
      },
      "execution_count": null,
      "outputs": []
    },
    {
      "cell_type": "markdown",
      "source": [
        "Cleaning sudah selesai, simpan ke dalam file baru"
      ],
      "metadata": {
        "id": "PkL8SiyFS49S"
      }
    },
    {
      "cell_type": "code",
      "source": [
        "# review_df.to_csv(\"Dataset Review APIFY.csv\", index=False)"
      ],
      "metadata": {
        "id": "UueRMrHuTpNu"
      },
      "execution_count": null,
      "outputs": []
    },
    {
      "cell_type": "markdown",
      "source": [
        "Membaca file dataset yang sudah clean"
      ],
      "metadata": {
        "id": "NSx36vWpx6zK"
      }
    },
    {
      "cell_type": "code",
      "source": [
        "# review_df = pd.read_csv(\"/content/Dataset Review APIFY.csv\", delimiter=\",\")"
      ],
      "metadata": {
        "id": "btVR63TLYZJz"
      },
      "execution_count": null,
      "outputs": []
    },
    {
      "cell_type": "markdown",
      "source": [
        "### *Memilih Lokasi Wisata yang ingin di Sentiment Analysis*"
      ],
      "metadata": {
        "id": "aITw-3avyNnV"
      }
    },
    {
      "cell_type": "markdown",
      "source": [
        "List Lokasi Wisata beserta jumlah review nya"
      ],
      "metadata": {
        "id": "tCYlJqQMyyJf"
      }
    },
    {
      "cell_type": "code",
      "source": [
        "location_counts = review_df[\"Lokasi Wisata\"].value_counts().sort_values(ascending=False)\n",
        "\n",
        "for i, (value, count) in enumerate(location_counts.items(), start=1):\n",
        "    print(f\"{i}. {value}: {count} Review\")"
      ],
      "metadata": {
        "id": "Z_Ds30LdivPC",
        "colab": {
          "base_uri": "https://localhost:8080/"
        },
        "outputId": "7108b5e3-3003-4324-c09b-f29db040906e"
      },
      "execution_count": null,
      "outputs": [
        {
          "output_type": "stream",
          "name": "stdout",
          "text": [
            "1. Prambanan Temple: 2980 Review\n",
            "2. Borobudur Temple: 2980 Review\n",
            "3. Keraton Ngayogyakarta Hadiningrat: 1416 Review\n"
          ]
        }
      ]
    },
    {
      "cell_type": "code",
      "source": [
        "sentiment_location = 'Prambanan Temple'"
      ],
      "metadata": {
        "id": "ercq04zLnMd_"
      },
      "execution_count": null,
      "outputs": []
    },
    {
      "cell_type": "code",
      "source": [
        "sentiment_df = review_df[review_df['Lokasi Wisata'] == sentiment_location]"
      ],
      "metadata": {
        "id": "DaL7Bjue_O6m"
      },
      "execution_count": null,
      "outputs": []
    },
    {
      "cell_type": "markdown",
      "source": [
        "### Processing Sentiment using Transformers Library"
      ],
      "metadata": {
        "id": "dpq00NISnR0d"
      }
    },
    {
      "cell_type": "code",
      "source": [
        "!pip install transformers"
      ],
      "metadata": {
        "id": "f4R80WknUE82",
        "colab": {
          "base_uri": "https://localhost:8080/"
        },
        "outputId": "46f8cfeb-941b-4511-e97c-e0c07d370087"
      },
      "execution_count": null,
      "outputs": [
        {
          "output_type": "stream",
          "name": "stdout",
          "text": [
            "Requirement already satisfied: transformers in /usr/local/lib/python3.11/dist-packages (4.48.2)\n",
            "Requirement already satisfied: filelock in /usr/local/lib/python3.11/dist-packages (from transformers) (3.17.0)\n",
            "Requirement already satisfied: huggingface-hub<1.0,>=0.24.0 in /usr/local/lib/python3.11/dist-packages (from transformers) (0.28.1)\n",
            "Requirement already satisfied: numpy>=1.17 in /usr/local/lib/python3.11/dist-packages (from transformers) (1.26.4)\n",
            "Requirement already satisfied: packaging>=20.0 in /usr/local/lib/python3.11/dist-packages (from transformers) (24.2)\n",
            "Requirement already satisfied: pyyaml>=5.1 in /usr/local/lib/python3.11/dist-packages (from transformers) (6.0.2)\n",
            "Requirement already satisfied: regex!=2019.12.17 in /usr/local/lib/python3.11/dist-packages (from transformers) (2024.11.6)\n",
            "Requirement already satisfied: requests in /usr/local/lib/python3.11/dist-packages (from transformers) (2.32.3)\n",
            "Requirement already satisfied: tokenizers<0.22,>=0.21 in /usr/local/lib/python3.11/dist-packages (from transformers) (0.21.0)\n",
            "Requirement already satisfied: safetensors>=0.4.1 in /usr/local/lib/python3.11/dist-packages (from transformers) (0.5.2)\n",
            "Requirement already satisfied: tqdm>=4.27 in /usr/local/lib/python3.11/dist-packages (from transformers) (4.67.1)\n",
            "Requirement already satisfied: fsspec>=2023.5.0 in /usr/local/lib/python3.11/dist-packages (from huggingface-hub<1.0,>=0.24.0->transformers) (2024.10.0)\n",
            "Requirement already satisfied: typing-extensions>=3.7.4.3 in /usr/local/lib/python3.11/dist-packages (from huggingface-hub<1.0,>=0.24.0->transformers) (4.12.2)\n",
            "Requirement already satisfied: charset-normalizer<4,>=2 in /usr/local/lib/python3.11/dist-packages (from requests->transformers) (3.4.1)\n",
            "Requirement already satisfied: idna<4,>=2.5 in /usr/local/lib/python3.11/dist-packages (from requests->transformers) (3.10)\n",
            "Requirement already satisfied: urllib3<3,>=1.21.1 in /usr/local/lib/python3.11/dist-packages (from requests->transformers) (2.3.0)\n",
            "Requirement already satisfied: certifi>=2017.4.17 in /usr/local/lib/python3.11/dist-packages (from requests->transformers) (2025.1.31)\n"
          ]
        }
      ]
    },
    {
      "cell_type": "code",
      "source": [
        "from transformers import pipeline"
      ],
      "metadata": {
        "id": "frTq3sfCnxuy"
      },
      "execution_count": null,
      "outputs": []
    },
    {
      "cell_type": "code",
      "source": [
        "# Specify the model name and revision\n",
        "model_name = \"cardiffnlp/twitter-roberta-base-sentiment\"\n",
        "revision = \"main\"\n",
        "\n",
        "# Initialize the pipeline with model and revision\n",
        "sentiment_pipeline = pipeline(\"sentiment-analysis\", model=model_name, revision=revision, truncation=True, max_length=512, return_all_scores=True)\n",
        "\n",
        "# Define the getPolarity function\n",
        "def getPolarity(review):\n",
        "    results = sentiment_pipeline(review)[0]  # Get scores for all labels\n",
        "\n",
        "    # Map scores to sentiment labels\n",
        "    label_mapping = {\n",
        "        \"LABEL_2\": \"Positive\",\n",
        "        \"LABEL_1\": \"Neutral\",\n",
        "        \"LABEL_0\": \"Negative\"\n",
        "    }\n",
        "    scores = {result['label']: result['score'] for result in results}\n",
        "\n",
        "    # Determine the highest scoring sentiment label\n",
        "    sentiment_label = label_mapping[max(scores, key=scores.get)]\n",
        "\n",
        "    # Calculate the polarity score\n",
        "    polarity_score = (scores[\"LABEL_2\"] * 1) + (scores[\"LABEL_1\"] * 0) + (scores[\"LABEL_0\"] * -1)\n",
        "\n",
        "    return sentiment_label, polarity_score"
      ],
      "metadata": {
        "id": "jl41_PzLnzAF",
        "colab": {
          "base_uri": "https://localhost:8080/"
        },
        "outputId": "b7df0312-12db-42cf-9e6f-024c792a9f1a"
      },
      "execution_count": null,
      "outputs": [
        {
          "output_type": "stream",
          "name": "stderr",
          "text": [
            "Device set to use cpu\n",
            "/usr/local/lib/python3.11/dist-packages/transformers/pipelines/text_classification.py:106: UserWarning: `return_all_scores` is now deprecated,  if want a similar functionality use `top_k=None` instead of `return_all_scores=True` or `top_k=1` instead of `return_all_scores=False`.\n",
            "  warnings.warn(\n"
          ]
        }
      ]
    },
    {
      "cell_type": "code",
      "source": [
        "# Mengaplikasikan function getPolarity untuk setiap review dan menaruhnya ke kolom baru\n",
        "sentiment_df[[\"Sentiment\", \"Polarity\"]] = sentiment_df[\"Komentar\"].apply(lambda x: pd.Series(getPolarity(x)))"
      ],
      "metadata": {
        "id": "orSm92G-n0kc",
        "colab": {
          "base_uri": "https://localhost:8080/"
        },
        "outputId": "5e64a336-78f6-4e37-e925-e4653f7c20c5"
      },
      "execution_count": null,
      "outputs": [
        {
          "output_type": "stream",
          "name": "stderr",
          "text": [
            "<ipython-input-73-4fc30c8ad8e9>:2: SettingWithCopyWarning: \n",
            "A value is trying to be set on a copy of a slice from a DataFrame.\n",
            "Try using .loc[row_indexer,col_indexer] = value instead\n",
            "\n",
            "See the caveats in the documentation: https://pandas.pydata.org/pandas-docs/stable/user_guide/indexing.html#returning-a-view-versus-a-copy\n",
            "  sentiment_df[[\"Sentiment\", \"Polarity\"]] = sentiment_df[\"Komentar\"].apply(lambda x: pd.Series(getPolarity(x)))\n",
            "<ipython-input-73-4fc30c8ad8e9>:2: SettingWithCopyWarning: \n",
            "A value is trying to be set on a copy of a slice from a DataFrame.\n",
            "Try using .loc[row_indexer,col_indexer] = value instead\n",
            "\n",
            "See the caveats in the documentation: https://pandas.pydata.org/pandas-docs/stable/user_guide/indexing.html#returning-a-view-versus-a-copy\n",
            "  sentiment_df[[\"Sentiment\", \"Polarity\"]] = sentiment_df[\"Komentar\"].apply(lambda x: pd.Series(getPolarity(x)))\n"
          ]
        }
      ]
    },
    {
      "cell_type": "code",
      "source": [
        "bar_chart = sentiment_df['Sentiment'].value_counts().rename_axis('Sentiment').to_frame('Total Review').reset_index()"
      ],
      "metadata": {
        "id": "gycXDeidn1sU"
      },
      "execution_count": null,
      "outputs": []
    },
    {
      "cell_type": "code",
      "source": [
        "import matplotlib.pyplot as plt"
      ],
      "metadata": {
        "id": "1fuUt8EeC_y7"
      },
      "execution_count": null,
      "outputs": []
    },
    {
      "cell_type": "markdown",
      "source": [
        "### Result"
      ],
      "metadata": {
        "id": "04hZxYSQnnIk"
      }
    },
    {
      "cell_type": "code",
      "source": [
        "# Ambil daftar lokasi wisata unik dari sentiment_df\n",
        "unique_locations = sentiment_df['Lokasi Wisata'].unique()\n",
        "\n",
        "# Gabungkan lokasi wisata menjadi string dengan koma sebagai pemisah\n",
        "locations_title = \", \".join(unique_locations)\n",
        "\n",
        "# Membuat judul dengan lokasi wisata\n",
        "chart_title = f\"Sentiment Analysis {locations_title} Review Count\"\n",
        "\n",
        "# Plot bar chart\n",
        "plt.figure(figsize=(8, 6))\n",
        "plt.bar(bar_chart['Sentiment'], bar_chart['Total Review'], color=['green', 'grey', 'maroon'])\n",
        "\n",
        "# Menambahkan informasi total review di atas setiap bar\n",
        "for i, total in enumerate(bar_chart['Total Review']):\n",
        "    plt.text(i, total + 1, str(total), ha='center', va='bottom')\n",
        "\n",
        "# Menambahkan judul dan label sumbu\n",
        "plt.title(chart_title)\n",
        "plt.xlabel('Sentiment')\n",
        "plt.ylabel('Total Review')\n",
        "\n",
        "# Menampilkan chart\n",
        "plt.show()"
      ],
      "metadata": {
        "id": "DgooAW-p122p",
        "colab": {
          "base_uri": "https://localhost:8080/",
          "height": 564
        },
        "outputId": "68b60823-a8ed-427c-95d6-509318ba704e"
      },
      "execution_count": null,
      "outputs": [
        {
          "output_type": "display_data",
          "data": {
            "text/plain": [
              "<Figure size 800x600 with 1 Axes>"
            ],
            "image/png": "[encoded data removed]"
          },
          "metadata": {}
        }
      ]
    },
    {
      "cell_type": "code",
      "source": [
        "# Filter dataset dengan nilai 'Negative' pada kolom 'sentiment'\n",
        "negative_sentiment_df = sentiment_df[sentiment_df['Sentiment'] == 'Negative']\n",
        "\n",
        "# Melihat hasil filter\n",
        "negative_sentiment_df"
      ],
      "metadata": {
        "colab": {
          "base_uri": "https://localhost:8080/",
          "height": 423
        },
        "id": "hT3N0evvveQG",
        "outputId": "1008616b-3ff7-46cb-e929-5b8224602c15"
      },
      "execution_count": null,
      "outputs": [
        {
          "output_type": "execute_result",
          "data": {
            "text/plain": [
              "                    Nama Akun Waktu Kunjungan  Rating  \\\n",
              "397              Yulius Halim      27/12/2024       2   \n",
              "423            Ralf Meermeier      11/08/2024       3   \n",
              "434    Indo Legal Consultants      14/11/2024       4   \n",
              "479   Love,flower,world愛的花花世界      26/01/2025       5   \n",
              "505                 yan rezrs      30/01/2025       2   \n",
              "...                       ...             ...     ...   \n",
              "7212                   Lbflex      16/04/2016       4   \n",
              "7351                Hunebedje      06/03/2016       5   \n",
              "7365                    Wil E      02/03/2016       5   \n",
              "7370        Barilee Traveling      28/02/2016       2   \n",
              "7375                  Paweł O      24/02/2016       3   \n",
              "\n",
              "                                               Komentar     Lokasi Wisata  \\\n",
              "397   complex designed far got tired provide expensi...  Borobudur Temple   \n",
              "423   unless able snatch one limited get inside stru...  Borobudur Temple   \n",
              "434   site amazing time however new ticketing parkin...  Borobudur Temple   \n",
              "479   important world cultural heritage visit time t...  Borobudur Temple   \n",
              "505   unfortunately parking area really messy parkin...  Borobudur Temple   \n",
              "...                                                 ...               ...   \n",
              "7212  ancient temple one sacred built th th century ...  Borobudur Temple   \n",
              "7351  simply one mankind see late building camera ki...  Borobudur Temple   \n",
              "7365  lot amateur illuminating darkness sunrise bit ...  Borobudur Temple   \n",
              "7370  u rupiah get access single structure costing m...  Borobudur Temple   \n",
              "7375  nice temple nothing try go cloudy coz miss nic...  Borobudur Temple   \n",
              "\n",
              "     Sentiment  Polarity  \n",
              "397   Negative -0.764320  \n",
              "423   Negative -0.509120  \n",
              "434   Negative -0.576688  \n",
              "479   Negative -0.604616  \n",
              "505   Negative -0.730205  \n",
              "...        ...       ...  \n",
              "7212  Negative -0.535251  \n",
              "7351  Negative -0.509760  \n",
              "7365  Negative -0.841720  \n",
              "7370  Negative -0.603877  \n",
              "7375  Negative -0.654165  \n",
              "\n",
              "[79 rows x 7 columns]"
            ],
            "text/html": [
              "\n",
              "  <div id=\"df-27d6327a-db3c-487a-b6f6-787f71f0af68\" class=\"colab-df-container\">\n",
              "    <div>\n",
              "<style scoped>\n",
              "    .dataframe tbody tr th:only-of-type {\n",
              "        vertical-align: middle;\n",
              "    }\n",
              "\n",
              "    .dataframe tbody tr th {\n",
              "        vertical-align: top;\n",
              "    }\n",
              "\n",
              "    .dataframe thead th {\n",
              "        text-align: right;\n",
              "    }\n",
              "</style>\n",
              "<table border=\"1\" class=\"dataframe\">\n",
              "  <thead>\n",
              "    <tr style=\"text-align: right;\">\n",
              "      <th></th>\n",
              "      <th>Nama Akun</th>\n",
              "      <th>Waktu Kunjungan</th>\n",
              "      <th>Rating</th>\n",
              "      <th>Komentar</th>\n",
              "      <th>Lokasi Wisata</th>\n",
              "      <th>Sentiment</th>\n",
              "      <th>Polarity</th>\n",
              "    </tr>\n",
              "  </thead>\n",
              "  <tbody>\n",
              "    <tr>\n",
              "      <th>397</th>\n",
              "      <td>Yulius Halim</td>\n",
              "      <td>27/12/2024</td>\n",
              "      <td>2</td>\n",
              "      <td>complex designed far got tired provide expensi...</td>\n",
              "      <td>Borobudur Temple</td>\n",
              "      <td>Negative</td>\n",
              "      <td>-0.764320</td>\n",
              "    </tr>\n",
              "    <tr>\n",
              "      <th>423</th>\n",
              "      <td>Ralf Meermeier</td>\n",
              "      <td>11/08/2024</td>\n",
              "      <td>3</td>\n",
              "      <td>unless able snatch one limited get inside stru...</td>\n",
              "      <td>Borobudur Temple</td>\n",
              "      <td>Negative</td>\n",
              "      <td>-0.509120</td>\n",
              "    </tr>\n",
              "    <tr>\n",
              "      <th>434</th>\n",
              "      <td>Indo Legal Consultants</td>\n",
              "      <td>14/11/2024</td>\n",
              "      <td>4</td>\n",
              "      <td>site amazing time however new ticketing parkin...</td>\n",
              "      <td>Borobudur Temple</td>\n",
              "      <td>Negative</td>\n",
              "      <td>-0.576688</td>\n",
              "    </tr>\n",
              "    <tr>\n",
              "      <th>479</th>\n",
              "      <td>Love,flower,world愛的花花世界</td>\n",
              "      <td>26/01/2025</td>\n",
              "      <td>5</td>\n",
              "      <td>important world cultural heritage visit time t...</td>\n",
              "      <td>Borobudur Temple</td>\n",
              "      <td>Negative</td>\n",
              "      <td>-0.604616</td>\n",
              "    </tr>\n",
              "    <tr>\n",
              "      <th>505</th>\n",
              "      <td>yan rezrs</td>\n",
              "      <td>30/01/2025</td>\n",
              "      <td>2</td>\n",
              "      <td>unfortunately parking area really messy parkin...</td>\n",
              "      <td>Borobudur Temple</td>\n",
              "      <td>Negative</td>\n",
              "      <td>-0.730205</td>\n",
              "    </tr>\n",
              "    <tr>\n",
              "      <th>...</th>\n",
              "      <td>...</td>\n",
              "      <td>...</td>\n",
              "      <td>...</td>\n",
              "      <td>...</td>\n",
              "      <td>...</td>\n",
              "      <td>...</td>\n",
              "      <td>...</td>\n",
              "    </tr>\n",
              "    <tr>\n",
              "      <th>7212</th>\n",
              "      <td>Lbflex</td>\n",
              "      <td>16/04/2016</td>\n",
              "      <td>4</td>\n",
              "      <td>ancient temple one sacred built th th century ...</td>\n",
              "      <td>Borobudur Temple</td>\n",
              "      <td>Negative</td>\n",
              "      <td>-0.535251</td>\n",
              "    </tr>\n",
              "    <tr>\n",
              "      <th>7351</th>\n",
              "      <td>Hunebedje</td>\n",
              "      <td>06/03/2016</td>\n",
              "      <td>5</td>\n",
              "      <td>simply one mankind see late building camera ki...</td>\n",
              "      <td>Borobudur Temple</td>\n",
              "      <td>Negative</td>\n",
              "      <td>-0.509760</td>\n",
              "    </tr>\n",
              "    <tr>\n",
              "      <th>7365</th>\n",
              "      <td>Wil E</td>\n",
              "      <td>02/03/2016</td>\n",
              "      <td>5</td>\n",
              "      <td>lot amateur illuminating darkness sunrise bit ...</td>\n",
              "      <td>Borobudur Temple</td>\n",
              "      <td>Negative</td>\n",
              "      <td>-0.841720</td>\n",
              "    </tr>\n",
              "    <tr>\n",
              "      <th>7370</th>\n",
              "      <td>Barilee Traveling</td>\n",
              "      <td>28/02/2016</td>\n",
              "      <td>2</td>\n",
              "      <td>u rupiah get access single structure costing m...</td>\n",
              "      <td>Borobudur Temple</td>\n",
              "      <td>Negative</td>\n",
              "      <td>-0.603877</td>\n",
              "    </tr>\n",
              "    <tr>\n",
              "      <th>7375</th>\n",
              "      <td>Paweł O</td>\n",
              "      <td>24/02/2016</td>\n",
              "      <td>3</td>\n",
              "      <td>nice temple nothing try go cloudy coz miss nic...</td>\n",
              "      <td>Borobudur Temple</td>\n",
              "      <td>Negative</td>\n",
              "      <td>-0.654165</td>\n",
              "    </tr>\n",
              "  </tbody>\n",
              "</table>\n",
              "<p>79 rows × 7 columns</p>\n",
              "</div>\n",
              "    <div class=\"colab-df-buttons\">\n",
              "\n",
              "  <div class=\"colab-df-container\">\n",
              "    <button class=\"colab-df-convert\" onclick=\"convertToInteractive('df-27d6327a-db3c-487a-b6f6-787f71f0af68')\"\n",
              "            title=\"Convert this dataframe to an interactive table.\"\n",
              "            style=\"display:none;\">\n",
              "\n",
              "  <svg xmlns=\"http://www.w3.org/2000/svg\" height=\"24px\" viewBox=\"0 -960 960 960\">\n",
              "    <path d=\"M120-120v-720h720v720H120Zm60-500h600v-160H180v160Zm220 220h160v-160H400v160Zm0 220h160v-160H400v160ZM180-400h160v-160H180v160Zm440 0h160v-160H620v160ZM180-180h160v-160H180v160Zm440 0h160v-160H620v160Z\"/>\n",
              "  </svg>\n",
              "    </button>\n",
              "\n",
              "  <style>\n",
              "    .colab-df-container {\n",
              "      display:flex;\n",
              "      gap: 12px;\n",
              "    }\n",
              "\n",
              "    .colab-df-convert {\n",
              "      background-color: #E8F0FE;\n",
              "      border: none;\n",
              "      border-radius: 50%;\n",
              "      cursor: pointer;\n",
              "      display: none;\n",
              "      fill: #1967D2;\n",
              "      height: 32px;\n",
              "      padding: 0 0 0 0;\n",
              "      width: 32px;\n",
              "    }\n",
              "\n",
              "    .colab-df-convert:hover {\n",
              "      background-color: #E2EBFA;\n",
              "      box-shadow: 0px 1px 2px rgba(60, 64, 67, 0.3), 0px 1px 3px 1px rgba(60, 64, 67, 0.15);\n",
              "      fill: #174EA6;\n",
              "    }\n",
              "\n",
              "    .colab-df-buttons div {\n",
              "      margin-bottom: 4px;\n",
              "    }\n",
              "\n",
              "    [theme=dark] .colab-df-convert {\n",
              "      background-color: #3B4455;\n",
              "      fill: #D2E3FC;\n",
              "    }\n",
              "\n",
              "    [theme=dark] .colab-df-convert:hover {\n",
              "      background-color: #434B5C;\n",
              "      box-shadow: 0px 1px 3px 1px rgba(0, 0, 0, 0.15);\n",
              "      filter: drop-shadow(0px 1px 2px rgba(0, 0, 0, 0.3));\n",
              "      fill: #FFFFFF;\n",
              "    }\n",
              "  </style>\n",
              "\n",
              "    <script>\n",
              "      const buttonEl =\n",
              "        document.querySelector('#df-27d6327a-db3c-487a-b6f6-787f71f0af68 button.colab-df-convert');\n",
              "      buttonEl.style.display =\n",
              "        google.colab.kernel.accessAllowed ? 'block' : 'none';\n",
              "\n",
              "      async function convertToInteractive(key) {\n",
              "        const element = document.querySelector('#df-27d6327a-db3c-487a-b6f6-787f71f0af68');\n",
              "        const dataTable =\n",
              "          await google.colab.kernel.invokeFunction('convertToInteractive',\n",
              "                                                    [key], {});\n",
              "        if (!dataTable) return;\n",
              "\n",
              "        const docLinkHtml = 'Like what you see? Visit the ' +\n",
              "          '<a target=\"_blank\" href=https://colab.research.google.com/notebooks/data_table.ipynb>data table notebook</a>'\n",
              "          + ' to learn more about interactive tables.';\n",
              "        element.innerHTML = '';\n",
              "        dataTable['output_type'] = 'display_data';\n",
              "        await google.colab.output.renderOutput(dataTable, element);\n",
              "        const docLink = document.createElement('div');\n",
              "        docLink.innerHTML = docLinkHtml;\n",
              "        element.appendChild(docLink);\n",
              "      }\n",
              "    </script>\n",
              "  </div>\n",
              "\n",
              "\n",
              "<div id=\"df-35415fe9-07af-4e7e-98d5-f69e3490fea9\">\n",
              "  <button class=\"colab-df-quickchart\" onclick=\"quickchart('df-35415fe9-07af-4e7e-98d5-f69e3490fea9')\"\n",
              "            title=\"Suggest charts\"\n",
              "            style=\"display:none;\">\n",
              "\n",
              "<svg xmlns=\"http://www.w3.org/2000/svg\" height=\"24px\"viewBox=\"0 0 24 24\"\n",
              "     width=\"24px\">\n",
              "    <g>\n",
              "        <path d=\"M19 3H5c-1.1 0-2 .9-2 2v14c0 1.1.9 2 2 2h14c1.1 0 2-.9 2-2V5c0-1.1-.9-2-2-2zM9 17H7v-7h2v7zm4 0h-2V7h2v10zm4 0h-2v-4h2v4z\"/>\n",
              "    </g>\n",
              "</svg>\n",
              "  </button>\n",
              "\n",
              "<style>\n",
              "  .colab-df-quickchart {\n",
              "      --bg-color: #E8F0FE;\n",
              "      --fill-color: #1967D2;\n",
              "      --hover-bg-color: #E2EBFA;\n",
              "      --hover-fill-color: #174EA6;\n",
              "      --disabled-fill-color: #AAA;\n",
              "      --disabled-bg-color: #DDD;\n",
              "  }\n",
              "\n",
              "  [theme=dark] .colab-df-quickchart {\n",
              "      --bg-color: #3B4455;\n",
              "      --fill-color: #D2E3FC;\n",
              "      --hover-bg-color: #434B5C;\n",
              "      --hover-fill-color: #FFFFFF;\n",
              "      --disabled-bg-color: #3B4455;\n",
              "      --disabled-fill-color: #666;\n",
              "  }\n",
              "\n",
              "  .colab-df-quickchart {\n",
              "    background-color: var(--bg-color);\n",
              "    border: none;\n",
              "    border-radius: 50%;\n",
              "    cursor: pointer;\n",
              "    display: none;\n",
              "    fill: var(--fill-color);\n",
              "    height: 32px;\n",
              "    padding: 0;\n",
              "    width: 32px;\n",
              "  }\n",
              "\n",
              "  .colab-df-quickchart:hover {\n",
              "    background-color: var(--hover-bg-color);\n",
              "    box-shadow: 0 1px 2px rgba(60, 64, 67, 0.3), 0 1px 3px 1px rgba(60, 64, 67, 0.15);\n",
              "    fill: var(--button-hover-fill-color);\n",
              "  }\n",
              "\n",
              "  .colab-df-quickchart-complete:disabled,\n",
              "  .colab-df-quickchart-complete:disabled:hover {\n",
              "    background-color: var(--disabled-bg-color);\n",
              "    fill: var(--disabled-fill-color);\n",
              "    box-shadow: none;\n",
              "  }\n",
              "\n",
              "  .colab-df-spinner {\n",
              "    border: 2px solid var(--fill-color);\n",
              "    border-color: transparent;\n",
              "    border-bottom-color: var(--fill-color);\n",
              "    animation:\n",
              "      spin 1s steps(1) infinite;\n",
              "  }\n",
              "\n",
              "  @keyframes spin {\n",
              "    0% {\n",
              "      border-color: transparent;\n",
              "      border-bottom-color: var(--fill-color);\n",
              "      border-left-color: var(--fill-color);\n",
              "    }\n",
              "    20% {\n",
              "      border-color: transparent;\n",
              "      border-left-color: var(--fill-color);\n",
              "      border-top-color: var(--fill-color);\n",
              "    }\n",
              "    30% {\n",
              "      border-color: transparent;\n",
              "      border-left-color: var(--fill-color);\n",
              "      border-top-color: var(--fill-color);\n",
              "      border-right-color: var(--fill-color);\n",
              "    }\n",
              "    40% {\n",
              "      border-color: transparent;\n",
              "      border-right-color: var(--fill-color);\n",
              "      border-top-color: var(--fill-color);\n",
              "    }\n",
              "    60% {\n",
              "      border-color: transparent;\n",
              "      border-right-color: var(--fill-color);\n",
              "    }\n",
              "    80% {\n",
              "      border-color: transparent;\n",
              "      border-right-color: var(--fill-color);\n",
              "      border-bottom-color: var(--fill-color);\n",
              "    }\n",
              "    90% {\n",
              "      border-color: transparent;\n",
              "      border-bottom-color: var(--fill-color);\n",
              "    }\n",
              "  }\n",
              "</style>\n",
              "\n",
              "  <script>\n",
              "    async function quickchart(key) {\n",
              "      const quickchartButtonEl =\n",
              "        document.querySelector('#' + key + ' button');\n",
              "      quickchartButtonEl.disabled = true;  // To prevent multiple clicks.\n",
              "      quickchartButtonEl.classList.add('colab-df-spinner');\n",
              "      try {\n",
              "        const charts = await google.colab.kernel.invokeFunction(\n",
              "            'suggestCharts', [key], {});\n",
              "      } catch (error) {\n",
              "        console.error('Error during call to suggestCharts:', error);\n",
              "      }\n",
              "      quickchartButtonEl.classList.remove('colab-df-spinner');\n",
              "      quickchartButtonEl.classList.add('colab-df-quickchart-complete');\n",
              "    }\n",
              "    (() => {\n",
              "      let quickchartButtonEl =\n",
              "        document.querySelector('#df-35415fe9-07af-4e7e-98d5-f69e3490fea9 button');\n",
              "      quickchartButtonEl.style.display =\n",
              "        google.colab.kernel.accessAllowed ? 'block' : 'none';\n",
              "    })();\n",
              "  </script>\n",
              "</div>\n",
              "\n",
              "  <div id=\"id_ad8892f0-2909-4a66-a7c2-5620f8705f6d\">\n",
              "    <style>\n",
              "      .colab-df-generate {\n",
              "        background-color: #E8F0FE;\n",
              "        border: none;\n",
              "        border-radius: 50%;\n",
              "        cursor: pointer;\n",
              "        display: none;\n",
              "        fill: #1967D2;\n",
              "        height: 32px;\n",
              "        padding: 0 0 0 0;\n",
              "        width: 32px;\n",
              "      }\n",
              "\n",
              "      .colab-df-generate:hover {\n",
              "        background-color: #E2EBFA;\n",
              "        box-shadow: 0px 1px 2px rgba(60, 64, 67, 0.3), 0px 1px 3px 1px rgba(60, 64, 67, 0.15);\n",
              "        fill: #174EA6;\n",
              "      }\n",
              "\n",
              "      [theme=dark] .colab-df-generate {\n",
              "        background-color: #3B4455;\n",
              "        fill: #D2E3FC;\n",
              "      }\n",
              "\n",
              "      [theme=dark] .colab-df-generate:hover {\n",
              "        background-color: #434B5C;\n",
              "        box-shadow: 0px 1px 3px 1px rgba(0, 0, 0, 0.15);\n",
              "        filter: drop-shadow(0px 1px 2px rgba(0, 0, 0, 0.3));\n",
              "        fill: #FFFFFF;\n",
              "      }\n",
              "    </style>\n",
              "    <button class=\"colab-df-generate\" onclick=\"generateWithVariable('negative_sentiment_df')\"\n",
              "            title=\"Generate code using this dataframe.\"\n",
              "            style=\"display:none;\">\n",
              "\n",
              "  <svg xmlns=\"http://www.w3.org/2000/svg\" height=\"24px\"viewBox=\"0 0 24 24\"\n",
              "       width=\"24px\">\n",
              "    <path d=\"M7,19H8.4L18.45,9,17,7.55,7,17.6ZM5,21V16.75L18.45,3.32a2,2,0,0,1,2.83,0l1.4,1.43a1.91,1.91,0,0,1,.58,1.4,1.91,1.91,0,0,1-.58,1.4L9.25,21ZM18.45,9,17,7.55Zm-12,3A5.31,5.31,0,0,0,4.9,8.1,5.31,5.31,0,0,0,1,6.5,5.31,5.31,0,0,0,4.9,4.9,5.31,5.31,0,0,0,6.5,1,5.31,5.31,0,0,0,8.1,4.9,5.31,5.31,0,0,0,12,6.5,5.46,5.46,0,0,0,6.5,12Z\"/>\n",
              "  </svg>\n",
              "    </button>\n",
              "    <script>\n",
              "      (() => {\n",
              "      const buttonEl =\n",
              "        document.querySelector('#id_ad8892f0-2909-4a66-a7c2-5620f8705f6d button.colab-df-generate');\n",
              "      buttonEl.style.display =\n",
              "        google.colab.kernel.accessAllowed ? 'block' : 'none';\n",
              "\n",
              "      buttonEl.onclick = () => {\n",
              "        google.colab.notebook.generateWithVariable('negative_sentiment_df');\n",
              "      }\n",
              "      })();\n",
              "    </script>\n",
              "  </div>\n",
              "\n",
              "    </div>\n",
              "  </div>\n"
            ],
            "application/vnd.google.colaboratory.intrinsic+json": {
              "type": "dataframe",
              "variable_name": "negative_sentiment_df",
              "repr_error": "0"
            }
          },
          "metadata": {},
          "execution_count": 57
        }
      ]
    },
    {
      "cell_type": "code",
      "source": [
        "negative_sentiment_df.to_csv(\"Negative Sentiment Review APIFY.csv\", index=False)"
      ],
      "metadata": {
        "id": "JwBWUoscw1E0"
      },
      "execution_count": null,
      "outputs": []
    },
    {
      "cell_type": "markdown",
      "source": [
        "# **Network Science**"
      ],
      "metadata": {
        "id": "6G1a8SoYvIiE"
      }
    },
    {
      "cell_type": "markdown",
      "source": [
        "### Input & Cleaning Dataset"
      ],
      "metadata": {
        "id": "PhWk9flgoP68"
      }
    },
    {
      "cell_type": "markdown",
      "source": [
        "Import Dataset Google Maps"
      ],
      "metadata": {
        "id": "Y2rh4oXjvfWW"
      }
    },
    {
      "cell_type": "code",
      "source": [
        "# Membaca semua file CSV di dalam folder dan menggabungkannya\n",
        "all_files = glob.glob(os.path.join(folder_path_GoogleMaps, \"*.csv\"))\n",
        "data_frames = [pd.read_csv(file) for file in all_files]\n",
        "\n",
        "# Menggabungkan semua DataFrame menjadi satu\n",
        "gmaps_raw_df = pd.concat(data_frames, ignore_index=True)\n",
        "\n",
        "# Membuat DataFrame dengan kolom yang diinginkan\n",
        "gmaps_df = pd.DataFrame({\n",
        "    'Nama Akun': gmaps_raw_df['name'],\n",
        "    'Waktu Kunjungan': gmaps_raw_df['publishedAtDate'],\n",
        "    'Rating': gmaps_raw_df['stars'],\n",
        "    'Komentar': gmaps_raw_df.apply(\n",
        "        lambda row: row['textTranslated'] if pd.notna(row['textTranslated']) and row['textTranslated'].strip() else row['text'],\n",
        "        axis=1\n",
        "    ),\n",
        "    'Lokasi Wisata': gmaps_raw_df['title']\n",
        "})"
      ],
      "metadata": {
        "id": "RT4FJ7AlvfWW"
      },
      "execution_count": null,
      "outputs": []
    },
    {
      "cell_type": "markdown",
      "source": [
        "Normalisasi Kolom Lokasi Wisata"
      ],
      "metadata": {
        "id": "Lna7-9xqEwOe"
      }
    },
    {
      "cell_type": "code",
      "source": [
        "gmaps_df[\"Lokasi Wisata\"] = gmaps_df[\"Lokasi Wisata\"].replace(\"MAKAM SUNAN POJOK ꦩꦏꦩ꧀ꦱꦸꦤꦤ꧀ꦥꦴꦗꦴꦏ꧀\", \"Makam Sunan Pojok\")\n",
        "gmaps_df[\"Lokasi Wisata\"] = gmaps_df[\"Lokasi Wisata\"].replace(\"Candi Pendem Sengi\", \"Pendem Sengi Temple\")\n",
        "gmaps_df[\"Lokasi Wisata\"] = gmaps_df[\"Lokasi Wisata\"].replace(\"Gondosuli Temple And Inscription\", \"Gondosuli Temple\")\n",
        "gmaps_df[\"Lokasi Wisata\"] = gmaps_df[\"Lokasi Wisata\"].replace(\"MAKAM GEDONG AGENG Jipang\", \"Makam Gedong Ageng Jipang\")\n",
        "gmaps_df[\"Lokasi Wisata\"] = gmaps_df[\"Lokasi Wisata\"].replace(\"MAKAM SYECH JANGKUNG (SARIDIN) WALIYUALLAH\", \"Makam Syaikh Jangkung Waliyuallah\")\n",
        "gmaps_df[\"Lokasi Wisata\"] = gmaps_df[\"Lokasi Wisata\"].replace(\"Tomb of Queen Kalinyamat\", \"Makam Ratu Kalinyamat\")\n",
        "gmaps_df[\"Lokasi Wisata\"] = gmaps_df[\"Lokasi Wisata\"].replace(\"Tomb of R.Ng. Yasadipura I\", \"Makam R.Ng. Yasadipura I\")\n",
        "gmaps_df[\"Lokasi Wisata\"] = gmaps_df[\"Lokasi Wisata\"].replace(\"Tomb of Sunan Katong Kaliwungu\", \"Makam Sunan Katong Kaliwungu\")\n",
        "gmaps_df[\"Lokasi Wisata\"] = gmaps_df[\"Lokasi Wisata\"].replace(\"Tomb of Sunan Muria\", \"Makam Sunan Muria\")\n",
        "gmaps_df[\"Lokasi Wisata\"] = gmaps_df[\"Lokasi Wisata\"].replace(\"Tomb of Waliyyulloh Syeikh Maulana Jumadil Kubro\", \"Makam Syaikh Maulana Jumadil Kubro\")\n",
        "gmaps_df[\"Lokasi Wisata\"] = gmaps_df[\"Lokasi Wisata\"].replace(\"Makam syech Munadi nyatnyono\", \"Makam Syaikh Munadi Nyatnyono\")\n",
        "gmaps_df[\"Lokasi Wisata\"] = gmaps_df[\"Lokasi Wisata\"].replace(\"Maqbaroh Syaikh Mutamakkin Waliyyullah\", \"Makam Syaikh Mutamakkin Waliyyullah\")\n",
        "gmaps_df[\"Lokasi Wisata\"] = gmaps_df[\"Lokasi Wisata\"].replace(\"Museum RA Kartini\", \"Museum R.A. Kartini Jepara\")"
      ],
      "metadata": {
        "id": "eONvPIIfEwOf"
      },
      "execution_count": null,
      "outputs": []
    },
    {
      "cell_type": "code",
      "source": [
        "review_df = pd.DataFrame(gmaps_df)"
      ],
      "metadata": {
        "id": "tMx4dPBZXFj9"
      },
      "execution_count": null,
      "outputs": []
    },
    {
      "cell_type": "code",
      "source": [
        "review_df = review_df.drop_duplicates()"
      ],
      "metadata": {
        "id": "AHwMPAIMg_yK"
      },
      "execution_count": null,
      "outputs": []
    },
    {
      "cell_type": "markdown",
      "source": [
        "### *Filter tempat yang ingin dimasukan kedalam Network Science*"
      ],
      "metadata": {
        "id": "W4_J0OOyVdBC"
      }
    },
    {
      "cell_type": "code",
      "source": [
        "location_counts = review_df[\"Lokasi Wisata\"].value_counts().sort_values(ascending=False)\n",
        "\n",
        "for i, (value, count) in enumerate(location_counts.items(), start=1):\n",
        "    print(f\"{i}. {value}: {count} Review\")"
      ],
      "metadata": {
        "colab": {
          "base_uri": "https://localhost:8080/"
        },
        "id": "ZJ3ClQHlhnQZ",
        "outputId": "6fa53769-a250-4861-d713-230bf68b06a3"
      },
      "execution_count": null,
      "outputs": [
        {
          "output_type": "stream",
          "name": "stdout",
          "text": [
            "1. Masjid Al-Aqsha Menara Kudus: 2175 Review\n",
            "2. Keraton Ngayogyakarta Hadiningrat: 2029 Review\n",
            "3. Masjid Agung Demak: 1225 Review\n",
            "4. Makam Raja-Raja Imogiri: 161 Review\n",
            "5. Pura Pakualaman: 157 Review\n",
            "6. Makam Sunan Muria: 144 Review\n",
            "7. Makam Sunan Bayat Ki Ageng Pandanaran: 129 Review\n",
            "8. Masjid Sunan Kalijaga Kadilangu Demak: 114 Review\n",
            "9. Pasujudan Sunan Bonang, Makam Putri Champa: 110 Review\n"
          ]
        }
      ]
    },
    {
      "cell_type": "code",
      "source": [
        "# Filter lokasi wisata yang memiliki 20 review atau lebih\n",
        "valid_locations = location_counts[location_counts >= 100].index\n",
        "\n",
        "# Drop baris dengan lokasi wisata yang kurang dari 20 review\n",
        "review_df = review_df[review_df[\"Lokasi Wisata\"].isin(valid_locations)]"
      ],
      "metadata": {
        "id": "hs2Dvcmrq0t1"
      },
      "execution_count": null,
      "outputs": []
    },
    {
      "cell_type": "code",
      "source": [
        "mataram_hindu_budha = ['Borobudur Temple', 'Banyunibo Temple', 'Prambanan Temple', 'Sewu Temple','Plaosan Lor Temple',\n",
        "                       'Mendut Buddhist Monastery','Pawon Temple','Ratu Boko Temple','Kalasan Temple','Sojiwan Temple',\n",
        "                       'Sari Temple','Umbul Temple','Selogriyo Temple','Situs Liyangan','Asu Temple','Pringapus Temple',\n",
        "                       'Ngawen Temple','Gunungsari Temple','Lumbung Temple','Losari Temple','Gunung Wukir Temple',\n",
        "                       'Gondosuli Temple','Pendem Sengi Temple']\n",
        "mataram_islam = ['Masjid Agung Demak', 'Masjid Al-Aqsha Menara Kudus', 'Pura Pakualaman',\n",
        "                 'Makam Sunan Bayat Ki Ageng Pandanaran', 'Masjid Sunan Kalijaga Kadilangu Demak', 'Pasujudan Sunan Bonang, Makam Putri Champa',\n",
        "                 'Makam Raja-Raja Mataram Kotagede', 'Makam Sunan Muria', 'Makam Syeikh Maulana Al Maghribi', 'Makam Ratu Kalinyamat',\n",
        "                 'Situs Makam Sunan Amangkurat Agung', 'Makam Raden Ayu Kartini', 'Makam Syaikh Maulana Jumadil Kubro',\n",
        "                 'Makam Ki Ageng Selo Tawangharjo Grobogan', 'Makam Joko Tingkir', 'Makam Syaikh Mutamakkin Waliyyullah',\n",
        "                 'Makam Ronggo Warsito', 'Makam KH Sholeh Darat', 'Makam Syaikh Jangkung Waliyuallah', 'Makam Sunan Prawoto',\n",
        "                 'Makam Kyai Ageng Kebo Kenongo', 'Makam Sunan Katong Kaliwungu', 'Makam Ki Ageng Pandanaran', 'Makam Handayaningrat Ki Ageng Pengging',\n",
        "                 'Mbah Sambu (Sayyid Abdurrahman)', 'Masjid Besar Terboyo', 'Makam Sunan Pojok', 'Museum Ronggo Warsito',\n",
        "                 'Makam Syaikh Munadi Nyatnyono', 'Makam Mbah Kyai Telingsing', 'Makam Mbah Abdul Jalil (Wali Sunan Jepara)',\n",
        "                 'Makam Sunan Bonang Lasem', 'Makam Sunan Kalijaga']\n",
        "# masa_kolonial = ['Lokasi A', 'Lokasi B', 'Lokasi C']"
      ],
      "metadata": {
        "id": "XvyY3jTfbP0E"
      },
      "execution_count": null,
      "outputs": []
    },
    {
      "cell_type": "code",
      "source": [
        "network_df = review_df[review_df['Lokasi Wisata'].isin(mataram_islam)]"
      ],
      "metadata": {
        "id": "L3zrAwp6onri"
      },
      "execution_count": null,
      "outputs": []
    },
    {
      "cell_type": "code",
      "source": [
        "network_df.head(10)"
      ],
      "metadata": {
        "colab": {
          "base_uri": "https://localhost:8080/",
          "height": 363
        },
        "id": "q8CpzFcPvogK",
        "outputId": "98971836-06f1-41ef-ce29-87746971650b"
      },
      "execution_count": null,
      "outputs": [
        {
          "output_type": "execute_result",
          "data": {
            "text/plain": [
              "                    Nama Akun           Waktu Kunjungan  Rating  \\\n",
              "20                Menoer Azza  2025-01-21T00:16:05.272Z       5   \n",
              "21             Titik Pujiyati  2025-01-20T23:48:24.104Z       5   \n",
              "22              Rohim Bintoro  2025-01-20T15:37:52.830Z       5   \n",
              "23            shofyan anshori  2025-01-20T06:46:47.983Z       5   \n",
              "24             Aghisna Rahmat  2025-01-19T16:58:11.416Z       5   \n",
              "25                   Cahayaaa  2025-01-19T16:02:37.946Z       5   \n",
              "26            Wildan pragneta  2025-01-19T14:06:34.721Z       5   \n",
              "27             Agung Kisnanto  2025-01-19T12:50:33.415Z       5   \n",
              "28  Panti Asuhan Sunan Bonang  2025-01-19T04:53:03.793Z       5   \n",
              "29               Nono Pujiono  2025-01-19T00:27:24.530Z       5   \n",
              "\n",
              "                                             Komentar       Lokasi Wisata  \n",
              "20  Thank God we were able to perform Friday praye...  Masjid Agung Demak  \n",
              "21                                                NaN  Masjid Agung Demak  \n",
              "22                                                NaN  Masjid Agung Demak  \n",
              "23  First time sholat jumat in masjid aging demak....  Masjid Agung Demak  \n",
              "24                                          very cold  Masjid Agung Demak  \n",
              "25                                                NaN  Masjid Agung Demak  \n",
              "26                                                NaN  Masjid Agung Demak  \n",
              "27  Good mosque is full of the history of Islamic ...  Masjid Agung Demak  \n",
              "28                                                NaN  Masjid Agung Demak  \n",
              "29                                                NaN  Masjid Agung Demak  "
            ],
            "text/html": [
              "\n",
              "  <div id=\"df-67c52165-23a7-4def-804a-86767cd4e9a3\" class=\"colab-df-container\">\n",
              "    <div>\n",
              "<style scoped>\n",
              "    .dataframe tbody tr th:only-of-type {\n",
              "        vertical-align: middle;\n",
              "    }\n",
              "\n",
              "    .dataframe tbody tr th {\n",
              "        vertical-align: top;\n",
              "    }\n",
              "\n",
              "    .dataframe thead th {\n",
              "        text-align: right;\n",
              "    }\n",
              "</style>\n",
              "<table border=\"1\" class=\"dataframe\">\n",
              "  <thead>\n",
              "    <tr style=\"text-align: right;\">\n",
              "      <th></th>\n",
              "      <th>Nama Akun</th>\n",
              "      <th>Waktu Kunjungan</th>\n",
              "      <th>Rating</th>\n",
              "      <th>Komentar</th>\n",
              "      <th>Lokasi Wisata</th>\n",
              "    </tr>\n",
              "  </thead>\n",
              "  <tbody>\n",
              "    <tr>\n",
              "      <th>20</th>\n",
              "      <td>Menoer Azza</td>\n",
              "      <td>2025-01-21T00:16:05.272Z</td>\n",
              "      <td>5</td>\n",
              "      <td>Thank God we were able to perform Friday praye...</td>\n",
              "      <td>Masjid Agung Demak</td>\n",
              "    </tr>\n",
              "    <tr>\n",
              "      <th>21</th>\n",
              "      <td>Titik Pujiyati</td>\n",
              "      <td>2025-01-20T23:48:24.104Z</td>\n",
              "      <td>5</td>\n",
              "      <td>NaN</td>\n",
              "      <td>Masjid Agung Demak</td>\n",
              "    </tr>\n",
              "    <tr>\n",
              "      <th>22</th>\n",
              "      <td>Rohim Bintoro</td>\n",
              "      <td>2025-01-20T15:37:52.830Z</td>\n",
              "      <td>5</td>\n",
              "      <td>NaN</td>\n",
              "      <td>Masjid Agung Demak</td>\n",
              "    </tr>\n",
              "    <tr>\n",
              "      <th>23</th>\n",
              "      <td>shofyan anshori</td>\n",
              "      <td>2025-01-20T06:46:47.983Z</td>\n",
              "      <td>5</td>\n",
              "      <td>First time sholat jumat in masjid aging demak....</td>\n",
              "      <td>Masjid Agung Demak</td>\n",
              "    </tr>\n",
              "    <tr>\n",
              "      <th>24</th>\n",
              "      <td>Aghisna Rahmat</td>\n",
              "      <td>2025-01-19T16:58:11.416Z</td>\n",
              "      <td>5</td>\n",
              "      <td>very cold</td>\n",
              "      <td>Masjid Agung Demak</td>\n",
              "    </tr>\n",
              "    <tr>\n",
              "      <th>25</th>\n",
              "      <td>Cahayaaa</td>\n",
              "      <td>2025-01-19T16:02:37.946Z</td>\n",
              "      <td>5</td>\n",
              "      <td>NaN</td>\n",
              "      <td>Masjid Agung Demak</td>\n",
              "    </tr>\n",
              "    <tr>\n",
              "      <th>26</th>\n",
              "      <td>Wildan pragneta</td>\n",
              "      <td>2025-01-19T14:06:34.721Z</td>\n",
              "      <td>5</td>\n",
              "      <td>NaN</td>\n",
              "      <td>Masjid Agung Demak</td>\n",
              "    </tr>\n",
              "    <tr>\n",
              "      <th>27</th>\n",
              "      <td>Agung Kisnanto</td>\n",
              "      <td>2025-01-19T12:50:33.415Z</td>\n",
              "      <td>5</td>\n",
              "      <td>Good mosque is full of the history of Islamic ...</td>\n",
              "      <td>Masjid Agung Demak</td>\n",
              "    </tr>\n",
              "    <tr>\n",
              "      <th>28</th>\n",
              "      <td>Panti Asuhan Sunan Bonang</td>\n",
              "      <td>2025-01-19T04:53:03.793Z</td>\n",
              "      <td>5</td>\n",
              "      <td>NaN</td>\n",
              "      <td>Masjid Agung Demak</td>\n",
              "    </tr>\n",
              "    <tr>\n",
              "      <th>29</th>\n",
              "      <td>Nono Pujiono</td>\n",
              "      <td>2025-01-19T00:27:24.530Z</td>\n",
              "      <td>5</td>\n",
              "      <td>NaN</td>\n",
              "      <td>Masjid Agung Demak</td>\n",
              "    </tr>\n",
              "  </tbody>\n",
              "</table>\n",
              "</div>\n",
              "    <div class=\"colab-df-buttons\">\n",
              "\n",
              "  <div class=\"colab-df-container\">\n",
              "    <button class=\"colab-df-convert\" onclick=\"convertToInteractive('df-67c52165-23a7-4def-804a-86767cd4e9a3')\"\n",
              "            title=\"Convert this dataframe to an interactive table.\"\n",
              "            style=\"display:none;\">\n",
              "\n",
              "  <svg xmlns=\"http://www.w3.org/2000/svg\" height=\"24px\" viewBox=\"0 -960 960 960\">\n",
              "    <path d=\"M120-120v-720h720v720H120Zm60-500h600v-160H180v160Zm220 220h160v-160H400v160Zm0 220h160v-160H400v160ZM180-400h160v-160H180v160Zm440 0h160v-160H620v160ZM180-180h160v-160H180v160Zm440 0h160v-160H620v160Z\"/>\n",
              "  </svg>\n",
              "    </button>\n",
              "\n",
              "  <style>\n",
              "    .colab-df-container {\n",
              "      display:flex;\n",
              "      gap: 12px;\n",
              "    }\n",
              "\n",
              "    .colab-df-convert {\n",
              "      background-color: #E8F0FE;\n",
              "      border: none;\n",
              "      border-radius: 50%;\n",
              "      cursor: pointer;\n",
              "      display: none;\n",
              "      fill: #1967D2;\n",
              "      height: 32px;\n",
              "      padding: 0 0 0 0;\n",
              "      width: 32px;\n",
              "    }\n",
              "\n",
              "    .colab-df-convert:hover {\n",
              "      background-color: #E2EBFA;\n",
              "      box-shadow: 0px 1px 2px rgba(60, 64, 67, 0.3), 0px 1px 3px 1px rgba(60, 64, 67, 0.15);\n",
              "      fill: #174EA6;\n",
              "    }\n",
              "\n",
              "    .colab-df-buttons div {\n",
              "      margin-bottom: 4px;\n",
              "    }\n",
              "\n",
              "    [theme=dark] .colab-df-convert {\n",
              "      background-color: #3B4455;\n",
              "      fill: #D2E3FC;\n",
              "    }\n",
              "\n",
              "    [theme=dark] .colab-df-convert:hover {\n",
              "      background-color: #434B5C;\n",
              "      box-shadow: 0px 1px 3px 1px rgba(0, 0, 0, 0.15);\n",
              "      filter: drop-shadow(0px 1px 2px rgba(0, 0, 0, 0.3));\n",
              "      fill: #FFFFFF;\n",
              "    }\n",
              "  </style>\n",
              "\n",
              "    <script>\n",
              "      const buttonEl =\n",
              "        document.querySelector('#df-67c52165-23a7-4def-804a-86767cd4e9a3 button.colab-df-convert');\n",
              "      buttonEl.style.display =\n",
              "        google.colab.kernel.accessAllowed ? 'block' : 'none';\n",
              "\n",
              "      async function convertToInteractive(key) {\n",
              "        const element = document.querySelector('#df-67c52165-23a7-4def-804a-86767cd4e9a3');\n",
              "        const dataTable =\n",
              "          await google.colab.kernel.invokeFunction('convertToInteractive',\n",
              "                                                    [key], {});\n",
              "        if (!dataTable) return;\n",
              "\n",
              "        const docLinkHtml = 'Like what you see? Visit the ' +\n",
              "          '<a target=\"_blank\" href=https://colab.research.google.com/notebooks/data_table.ipynb>data table notebook</a>'\n",
              "          + ' to learn more about interactive tables.';\n",
              "        element.innerHTML = '';\n",
              "        dataTable['output_type'] = 'display_data';\n",
              "        await google.colab.output.renderOutput(dataTable, element);\n",
              "        const docLink = document.createElement('div');\n",
              "        docLink.innerHTML = docLinkHtml;\n",
              "        element.appendChild(docLink);\n",
              "      }\n",
              "    </script>\n",
              "  </div>\n",
              "\n",
              "\n",
              "<div id=\"df-a8ac384e-5474-4f57-ba68-f5306c9430f3\">\n",
              "  <button class=\"colab-df-quickchart\" onclick=\"quickchart('df-a8ac384e-5474-4f57-ba68-f5306c9430f3')\"\n",
              "            title=\"Suggest charts\"\n",
              "            style=\"display:none;\">\n",
              "\n",
              "<svg xmlns=\"http://www.w3.org/2000/svg\" height=\"24px\"viewBox=\"0 0 24 24\"\n",
              "     width=\"24px\">\n",
              "    <g>\n",
              "        <path d=\"M19 3H5c-1.1 0-2 .9-2 2v14c0 1.1.9 2 2 2h14c1.1 0 2-.9 2-2V5c0-1.1-.9-2-2-2zM9 17H7v-7h2v7zm4 0h-2V7h2v10zm4 0h-2v-4h2v4z\"/>\n",
              "    </g>\n",
              "</svg>\n",
              "  </button>\n",
              "\n",
              "<style>\n",
              "  .colab-df-quickchart {\n",
              "      --bg-color: #E8F0FE;\n",
              "      --fill-color: #1967D2;\n",
              "      --hover-bg-color: #E2EBFA;\n",
              "      --hover-fill-color: #174EA6;\n",
              "      --disabled-fill-color: #AAA;\n",
              "      --disabled-bg-color: #DDD;\n",
              "  }\n",
              "\n",
              "  [theme=dark] .colab-df-quickchart {\n",
              "      --bg-color: #3B4455;\n",
              "      --fill-color: #D2E3FC;\n",
              "      --hover-bg-color: #434B5C;\n",
              "      --hover-fill-color: #FFFFFF;\n",
              "      --disabled-bg-color: #3B4455;\n",
              "      --disabled-fill-color: #666;\n",
              "  }\n",
              "\n",
              "  .colab-df-quickchart {\n",
              "    background-color: var(--bg-color);\n",
              "    border: none;\n",
              "    border-radius: 50%;\n",
              "    cursor: pointer;\n",
              "    display: none;\n",
              "    fill: var(--fill-color);\n",
              "    height: 32px;\n",
              "    padding: 0;\n",
              "    width: 32px;\n",
              "  }\n",
              "\n",
              "  .colab-df-quickchart:hover {\n",
              "    background-color: var(--hover-bg-color);\n",
              "    box-shadow: 0 1px 2px rgba(60, 64, 67, 0.3), 0 1px 3px 1px rgba(60, 64, 67, 0.15);\n",
              "    fill: var(--button-hover-fill-color);\n",
              "  }\n",
              "\n",
              "  .colab-df-quickchart-complete:disabled,\n",
              "  .colab-df-quickchart-complete:disabled:hover {\n",
              "    background-color: var(--disabled-bg-color);\n",
              "    fill: var(--disabled-fill-color);\n",
              "    box-shadow: none;\n",
              "  }\n",
              "\n",
              "  .colab-df-spinner {\n",
              "    border: 2px solid var(--fill-color);\n",
              "    border-color: transparent;\n",
              "    border-bottom-color: var(--fill-color);\n",
              "    animation:\n",
              "      spin 1s steps(1) infinite;\n",
              "  }\n",
              "\n",
              "  @keyframes spin {\n",
              "    0% {\n",
              "      border-color: transparent;\n",
              "      border-bottom-color: var(--fill-color);\n",
              "      border-left-color: var(--fill-color);\n",
              "    }\n",
              "    20% {\n",
              "      border-color: transparent;\n",
              "      border-left-color: var(--fill-color);\n",
              "      border-top-color: var(--fill-color);\n",
              "    }\n",
              "    30% {\n",
              "      border-color: transparent;\n",
              "      border-left-color: var(--fill-color);\n",
              "      border-top-color: var(--fill-color);\n",
              "      border-right-color: var(--fill-color);\n",
              "    }\n",
              "    40% {\n",
              "      border-color: transparent;\n",
              "      border-right-color: var(--fill-color);\n",
              "      border-top-color: var(--fill-color);\n",
              "    }\n",
              "    60% {\n",
              "      border-color: transparent;\n",
              "      border-right-color: var(--fill-color);\n",
              "    }\n",
              "    80% {\n",
              "      border-color: transparent;\n",
              "      border-right-color: var(--fill-color);\n",
              "      border-bottom-color: var(--fill-color);\n",
              "    }\n",
              "    90% {\n",
              "      border-color: transparent;\n",
              "      border-bottom-color: var(--fill-color);\n",
              "    }\n",
              "  }\n",
              "</style>\n",
              "\n",
              "  <script>\n",
              "    async function quickchart(key) {\n",
              "      const quickchartButtonEl =\n",
              "        document.querySelector('#' + key + ' button');\n",
              "      quickchartButtonEl.disabled = true;  // To prevent multiple clicks.\n",
              "      quickchartButtonEl.classList.add('colab-df-spinner');\n",
              "      try {\n",
              "        const charts = await google.colab.kernel.invokeFunction(\n",
              "            'suggestCharts', [key], {});\n",
              "      } catch (error) {\n",
              "        console.error('Error during call to suggestCharts:', error);\n",
              "      }\n",
              "      quickchartButtonEl.classList.remove('colab-df-spinner');\n",
              "      quickchartButtonEl.classList.add('colab-df-quickchart-complete');\n",
              "    }\n",
              "    (() => {\n",
              "      let quickchartButtonEl =\n",
              "        document.querySelector('#df-a8ac384e-5474-4f57-ba68-f5306c9430f3 button');\n",
              "      quickchartButtonEl.style.display =\n",
              "        google.colab.kernel.accessAllowed ? 'block' : 'none';\n",
              "    })();\n",
              "  </script>\n",
              "</div>\n",
              "\n",
              "    </div>\n",
              "  </div>\n"
            ],
            "application/vnd.google.colaboratory.intrinsic+json": {
              "type": "dataframe",
              "variable_name": "network_df",
              "repr_error": "0"
            }
          },
          "metadata": {},
          "execution_count": 141
        }
      ]
    },
    {
      "cell_type": "markdown",
      "source": [
        "### Processing Dataset"
      ],
      "metadata": {
        "id": "ikYrOKwopOnA"
      }
    },
    {
      "cell_type": "markdown",
      "source": [
        "Membuat Dataset Pergerakan Wisata dari Dataset Review dengan detail Waktu Kunjungan"
      ],
      "metadata": {
        "id": "3KmyiD4Nv3ua"
      }
    },
    {
      "cell_type": "code",
      "source": [
        "# Step 1: Konversi kolom 'Waktu Kunjungan' ke tipe datetime\n",
        "network_df['Waktu Kunjungan'] = pd.to_datetime(network_df['Waktu Kunjungan'], format='%Y-%m-%dT%H:%M:%S.%fZ')\n",
        "\n",
        "# Step 2: Urutkan dataset berdasarkan 'Nama Akun' dan 'Waktu Kunjungan'\n",
        "df_sorted = network_df.sort_values(['Nama Akun', 'Waktu Kunjungan']).drop_duplicates(subset=['Nama Akun', 'Lokasi Wisata'], keep='first')\n",
        "\n",
        "# Step 3: Menggabungkan destinasi yang dikunjungi dan waktu kunjungannya per \"Nama Akun\"\n",
        "# Gabungkan 'Lokasi Wisata' dan 'Waktu Kunjungan' menjadi list tuple untuk setiap 'Nama Akun'\n",
        "tourism_df = (\n",
        "    df_sorted.groupby('Nama Akun')[['Lokasi Wisata', 'Waktu Kunjungan']]\n",
        "    .apply(lambda x: list(zip(x['Lokasi Wisata'], x['Waktu Kunjungan'])))\n",
        "    .reset_index(name='Kunjungan')\n",
        ")\n",
        "\n",
        "# Step 4: Pecah daftar 'Kunjungan' menjadi kolom-kolom dengan format selang-seling: \"Destinasi i\", \"Waktu Kunjungan Destinasi i\"\n",
        "# Buat data frame baru untuk menyimpan destinasi dan waktu kunjungan secara selang-seling\n",
        "destinasi_waktu_df = pd.DataFrame(tourism_df['Kunjungan'].tolist())\n",
        "\n",
        "# Buat kolom selang-seling untuk \"Destinasi i\" dan \"Waktu Kunjungan Destinasi i\"\n",
        "combined_columns = {}\n",
        "for i in range(destinasi_waktu_df.shape[1]):\n",
        "    combined_columns[f'Destinasi {i+1}'] = destinasi_waktu_df.applymap(lambda x: x[0] if pd.notna(x) else None)[i]\n",
        "    combined_columns[f'Waktu Kunjungan Destinasi {i+1}'] = destinasi_waktu_df.applymap(lambda x: x[1] if pd.notna(x) else None)[i]\n",
        "\n",
        "# Gabungkan kolom-kolom ini dengan 'Nama Akun'\n",
        "tourism_df = pd.concat([tourism_df['Nama Akun'], pd.DataFrame(combined_columns)], axis=1)\n",
        "\n",
        "# Step 5: Mengurutkan dataframe berdasarkan jumlah destinasi yang dikunjungi\n",
        "tourism_df['Jumlah Destinasi'] = tourism_df.filter(like='Destinasi').notna().sum(axis=1)\n",
        "tourism_df = tourism_df.sort_values('Jumlah Destinasi', ascending=False).reset_index(drop=True)\n",
        "\n",
        "# Hapus kolom 'Jumlah Destinasi' jika tidak ingin ditampilkan\n",
        "tourism_df = tourism_df.drop(columns=['Jumlah Destinasi'])\n",
        "\n",
        "# Hanya pertahankan data wisatawan yang mengunjungi lebih dari satu destinasi\n",
        "tourism_df = tourism_df.dropna(thresh=3)  # thresh=3 mempertahankan baris dengan minimal 3 nilai tidak null (Nama Akun + 2 Destinasi)\n"
      ],
      "metadata": {
        "colab": {
          "base_uri": "https://localhost:8080/"
        },
        "id": "CeHw1QVW867v",
        "outputId": "6d46cc5e-f364-4ec8-fbf1-aaaf62390a34"
      },
      "execution_count": null,
      "outputs": [
        {
          "output_type": "stream",
          "name": "stderr",
          "text": [
            "<ipython-input-142-39ba29dc7147>:2: SettingWithCopyWarning: \n",
            "A value is trying to be set on a copy of a slice from a DataFrame.\n",
            "Try using .loc[row_indexer,col_indexer] = value instead\n",
            "\n",
            "See the caveats in the documentation: https://pandas.pydata.org/pandas-docs/stable/user_guide/indexing.html#returning-a-view-versus-a-copy\n",
            "  network_df['Waktu Kunjungan'] = pd.to_datetime(network_df['Waktu Kunjungan'], format='%Y-%m-%dT%H:%M:%S.%fZ')\n",
            "<ipython-input-142-39ba29dc7147>:22: FutureWarning: DataFrame.applymap has been deprecated. Use DataFrame.map instead.\n",
            "  combined_columns[f'Destinasi {i+1}'] = destinasi_waktu_df.applymap(lambda x: x[0] if pd.notna(x) else None)[i]\n",
            "<ipython-input-142-39ba29dc7147>:23: FutureWarning: DataFrame.applymap has been deprecated. Use DataFrame.map instead.\n",
            "  combined_columns[f'Waktu Kunjungan Destinasi {i+1}'] = destinasi_waktu_df.applymap(lambda x: x[1] if pd.notna(x) else None)[i]\n"
          ]
        }
      ]
    },
    {
      "cell_type": "markdown",
      "source": [
        "Membuat Dataset Pergerakan Wisata dari Dataset Review"
      ],
      "metadata": {
        "id": "_3TDCThvVrrp"
      }
    },
    {
      "cell_type": "code",
      "source": [
        "# Step 1: Konversi kolom 'Waktu Kunjungan' ke tipe datetime\n",
        "network_df['Waktu Kunjungan'] = pd.to_datetime(network_df['Waktu Kunjungan'], format='%Y-%m-%dT%H:%M:%S.%fZ')\n",
        "\n",
        "# Step 2: Urutkan dataset berdasarkan 'Nama Akun' dan 'Waktu Kunjungan'\n",
        "df_sorted = network_df.sort_values(['Waktu Kunjungan']).drop_duplicates(subset=['Nama Akun', 'Lokasi Wisata'], keep='first')\n",
        "\n",
        "# Step 3: Menggabungkan destinasi yang dikunjungi per \"Nama Akun\" menjadi kolom-kolom bertahap\n",
        "# Gunakan fungsi groupby untuk mengelompokkan data berdasarkan 'Nama Akun' dan urutkan kunjungan\n",
        "tourism_df = (\n",
        "    df_sorted.groupby('Nama Akun')['Lokasi Wisata']\n",
        "    .apply(lambda x: list(x))\n",
        "    .reset_index()\n",
        ")\n",
        "\n",
        "# Buat kolom-kolom untuk setiap destinasi kunjungan dengan penomoran dimulai dari 'Destinasi 1'\n",
        "destinasi_df = pd.DataFrame(tourism_df['Lokasi Wisata'].tolist())\n",
        "destinasi_df.columns = [f'Destinasi {i+1}' for i in range(destinasi_df.shape[1])]\n",
        "\n",
        "# Gabungkan kembali dengan kolom 'Nama Akun'\n",
        "tourism_df = pd.concat([tourism_df['Nama Akun'], destinasi_df], axis=1)\n",
        "\n",
        "# Step 4: Mengurutkan dataframe berdasarkan jumlah destinasi yang dikunjungi\n",
        "tourism_df['Jumlah Destinasi'] = tourism_df.drop(columns=['Nama Akun']).notna().sum(axis=1)\n",
        "tourism_df = tourism_df.sort_values('Jumlah Destinasi', ascending=False).reset_index(drop=True)\n",
        "\n",
        "# Hapus kolom 'Jumlah Destinasi' jika tidak ingin ditampilkan\n",
        "tourism_df = tourism_df.drop(columns=['Jumlah Destinasi'])\n",
        "\n",
        "# Hanya pertahankan data wisatawan yang mengunjungi lebih dari satu destinasi\n",
        "tourism_df = tourism_df.dropna(thresh=3)  # thresh=3 mempertahankan baris dengan minimal 3 nilai tidak null (Nama Akun + 2 Destinasi)"
      ],
      "metadata": {
        "id": "LV0rCLWPYlrh",
        "colab": {
          "base_uri": "https://localhost:8080/"
        },
        "outputId": "c7d36255-3184-43e4-bced-528ff3cc6c3c"
      },
      "execution_count": null,
      "outputs": [
        {
          "output_type": "stream",
          "name": "stderr",
          "text": [
            "<ipython-input-143-4eadd0795b58>:2: SettingWithCopyWarning: \n",
            "A value is trying to be set on a copy of a slice from a DataFrame.\n",
            "Try using .loc[row_indexer,col_indexer] = value instead\n",
            "\n",
            "See the caveats in the documentation: https://pandas.pydata.org/pandas-docs/stable/user_guide/indexing.html#returning-a-view-versus-a-copy\n",
            "  network_df['Waktu Kunjungan'] = pd.to_datetime(network_df['Waktu Kunjungan'], format='%Y-%m-%dT%H:%M:%S.%fZ')\n"
          ]
        }
      ]
    },
    {
      "cell_type": "code",
      "source": [
        "tourism_df.head(100)"
      ],
      "metadata": {
        "id": "n5w0aw7t7ode",
        "outputId": "34680e6d-cb1c-450a-e5aa-dd5be09b1ef6",
        "colab": {
          "base_uri": "https://localhost:8080/",
          "height": 493
        }
      },
      "execution_count": null,
      "outputs": [
        {
          "output_type": "execute_result",
          "data": {
            "text/plain": [
              "                Nama Akun                                 Destinasi 1  \\\n",
              "0               YAP YUHUU                             Pura Pakualaman   \n",
              "1             Yogi Rahman                          Masjid Agung Demak   \n",
              "2   Muhammad Nurul Ikromi                          Masjid Agung Demak   \n",
              "3            Catur Slamet                          Masjid Agung Demak   \n",
              "4     Deden Ues Supriyadi                          Masjid Agung Demak   \n",
              "..                    ...                                         ...   \n",
              "95         Wisudanto “MS”                          Masjid Agung Demak   \n",
              "96         Nur Aini Rahma                Masjid Al-Aqsha Menara Kudus   \n",
              "97         Diajeng Hastie  Pasujudan Sunan Bonang, Makam Putri Champa   \n",
              "98            Sabar Yayuk                          Masjid Agung Demak   \n",
              "99         Andri Nofianto                Masjid Al-Aqsha Menara Kudus   \n",
              "\n",
              "                                   Destinasi 2  \\\n",
              "0                           Masjid Agung Demak   \n",
              "1                 Masjid Al-Aqsha Menara Kudus   \n",
              "2                 Masjid Al-Aqsha Menara Kudus   \n",
              "3   Pasujudan Sunan Bonang, Makam Putri Champa   \n",
              "4        Masjid Sunan Kalijaga Kadilangu Demak   \n",
              "..                                         ...   \n",
              "95       Masjid Sunan Kalijaga Kadilangu Demak   \n",
              "96                          Masjid Agung Demak   \n",
              "97                          Masjid Agung Demak   \n",
              "98                Masjid Al-Aqsha Menara Kudus   \n",
              "99                          Masjid Agung Demak   \n",
              "\n",
              "                                   Destinasi 3  \n",
              "0                 Masjid Al-Aqsha Menara Kudus  \n",
              "1   Pasujudan Sunan Bonang, Makam Putri Champa  \n",
              "2   Pasujudan Sunan Bonang, Makam Putri Champa  \n",
              "3                 Masjid Al-Aqsha Menara Kudus  \n",
              "4                 Masjid Al-Aqsha Menara Kudus  \n",
              "..                                         ...  \n",
              "95                                        None  \n",
              "96                                        None  \n",
              "97                                        None  \n",
              "98                                        None  \n",
              "99                                        None  \n",
              "\n",
              "[100 rows x 4 columns]"
            ],
            "text/html": [
              "\n",
              "  <div id=\"df-a4fd76bb-8f93-401e-ac65-0fe821ba8a58\" class=\"colab-df-container\">\n",
              "    <div>\n",
              "<style scoped>\n",
              "    .dataframe tbody tr th:only-of-type {\n",
              "        vertical-align: middle;\n",
              "    }\n",
              "\n",
              "    .dataframe tbody tr th {\n",
              "        vertical-align: top;\n",
              "    }\n",
              "\n",
              "    .dataframe thead th {\n",
              "        text-align: right;\n",
              "    }\n",
              "</style>\n",
              "<table border=\"1\" class=\"dataframe\">\n",
              "  <thead>\n",
              "    <tr style=\"text-align: right;\">\n",
              "      <th></th>\n",
              "      <th>Nama Akun</th>\n",
              "      <th>Destinasi 1</th>\n",
              "      <th>Destinasi 2</th>\n",
              "      <th>Destinasi 3</th>\n",
              "    </tr>\n",
              "  </thead>\n",
              "  <tbody>\n",
              "    <tr>\n",
              "      <th>0</th>\n",
              "      <td>YAP YUHUU</td>\n",
              "      <td>Pura Pakualaman</td>\n",
              "      <td>Masjid Agung Demak</td>\n",
              "      <td>Masjid Al-Aqsha Menara Kudus</td>\n",
              "    </tr>\n",
              "    <tr>\n",
              "      <th>1</th>\n",
              "      <td>Yogi Rahman</td>\n",
              "      <td>Masjid Agung Demak</td>\n",
              "      <td>Masjid Al-Aqsha Menara Kudus</td>\n",
              "      <td>Pasujudan Sunan Bonang, Makam Putri Champa</td>\n",
              "    </tr>\n",
              "    <tr>\n",
              "      <th>2</th>\n",
              "      <td>Muhammad Nurul Ikromi</td>\n",
              "      <td>Masjid Agung Demak</td>\n",
              "      <td>Masjid Al-Aqsha Menara Kudus</td>\n",
              "      <td>Pasujudan Sunan Bonang, Makam Putri Champa</td>\n",
              "    </tr>\n",
              "    <tr>\n",
              "      <th>3</th>\n",
              "      <td>Catur Slamet</td>\n",
              "      <td>Masjid Agung Demak</td>\n",
              "      <td>Pasujudan Sunan Bonang, Makam Putri Champa</td>\n",
              "      <td>Masjid Al-Aqsha Menara Kudus</td>\n",
              "    </tr>\n",
              "    <tr>\n",
              "      <th>4</th>\n",
              "      <td>Deden Ues Supriyadi</td>\n",
              "      <td>Masjid Agung Demak</td>\n",
              "      <td>Masjid Sunan Kalijaga Kadilangu Demak</td>\n",
              "      <td>Masjid Al-Aqsha Menara Kudus</td>\n",
              "    </tr>\n",
              "    <tr>\n",
              "      <th>...</th>\n",
              "      <td>...</td>\n",
              "      <td>...</td>\n",
              "      <td>...</td>\n",
              "      <td>...</td>\n",
              "    </tr>\n",
              "    <tr>\n",
              "      <th>95</th>\n",
              "      <td>Wisudanto “MS”</td>\n",
              "      <td>Masjid Agung Demak</td>\n",
              "      <td>Masjid Sunan Kalijaga Kadilangu Demak</td>\n",
              "      <td>None</td>\n",
              "    </tr>\n",
              "    <tr>\n",
              "      <th>96</th>\n",
              "      <td>Nur Aini Rahma</td>\n",
              "      <td>Masjid Al-Aqsha Menara Kudus</td>\n",
              "      <td>Masjid Agung Demak</td>\n",
              "      <td>None</td>\n",
              "    </tr>\n",
              "    <tr>\n",
              "      <th>97</th>\n",
              "      <td>Diajeng Hastie</td>\n",
              "      <td>Pasujudan Sunan Bonang, Makam Putri Champa</td>\n",
              "      <td>Masjid Agung Demak</td>\n",
              "      <td>None</td>\n",
              "    </tr>\n",
              "    <tr>\n",
              "      <th>98</th>\n",
              "      <td>Sabar Yayuk</td>\n",
              "      <td>Masjid Agung Demak</td>\n",
              "      <td>Masjid Al-Aqsha Menara Kudus</td>\n",
              "      <td>None</td>\n",
              "    </tr>\n",
              "    <tr>\n",
              "      <th>99</th>\n",
              "      <td>Andri Nofianto</td>\n",
              "      <td>Masjid Al-Aqsha Menara Kudus</td>\n",
              "      <td>Masjid Agung Demak</td>\n",
              "      <td>None</td>\n",
              "    </tr>\n",
              "  </tbody>\n",
              "</table>\n",
              "<p>100 rows × 4 columns</p>\n",
              "</div>\n",
              "    <div class=\"colab-df-buttons\">\n",
              "\n",
              "  <div class=\"colab-df-container\">\n",
              "    <button class=\"colab-df-convert\" onclick=\"convertToInteractive('df-a4fd76bb-8f93-401e-ac65-0fe821ba8a58')\"\n",
              "            title=\"Convert this dataframe to an interactive table.\"\n",
              "            style=\"display:none;\">\n",
              "\n",
              "  <svg xmlns=\"http://www.w3.org/2000/svg\" height=\"24px\" viewBox=\"0 -960 960 960\">\n",
              "    <path d=\"M120-120v-720h720v720H120Zm60-500h600v-160H180v160Zm220 220h160v-160H400v160Zm0 220h160v-160H400v160ZM180-400h160v-160H180v160Zm440 0h160v-160H620v160ZM180-180h160v-160H180v160Zm440 0h160v-160H620v160Z\"/>\n",
              "  </svg>\n",
              "    </button>\n",
              "\n",
              "  <style>\n",
              "    .colab-df-container {\n",
              "      display:flex;\n",
              "      gap: 12px;\n",
              "    }\n",
              "\n",
              "    .colab-df-convert {\n",
              "      background-color: #E8F0FE;\n",
              "      border: none;\n",
              "      border-radius: 50%;\n",
              "      cursor: pointer;\n",
              "      display: none;\n",
              "      fill: #1967D2;\n",
              "      height: 32px;\n",
              "      padding: 0 0 0 0;\n",
              "      width: 32px;\n",
              "    }\n",
              "\n",
              "    .colab-df-convert:hover {\n",
              "      background-color: #E2EBFA;\n",
              "      box-shadow: 0px 1px 2px rgba(60, 64, 67, 0.3), 0px 1px 3px 1px rgba(60, 64, 67, 0.15);\n",
              "      fill: #174EA6;\n",
              "    }\n",
              "\n",
              "    .colab-df-buttons div {\n",
              "      margin-bottom: 4px;\n",
              "    }\n",
              "\n",
              "    [theme=dark] .colab-df-convert {\n",
              "      background-color: #3B4455;\n",
              "      fill: #D2E3FC;\n",
              "    }\n",
              "\n",
              "    [theme=dark] .colab-df-convert:hover {\n",
              "      background-color: #434B5C;\n",
              "      box-shadow: 0px 1px 3px 1px rgba(0, 0, 0, 0.15);\n",
              "      filter: drop-shadow(0px 1px 2px rgba(0, 0, 0, 0.3));\n",
              "      fill: #FFFFFF;\n",
              "    }\n",
              "  </style>\n",
              "\n",
              "    <script>\n",
              "      const buttonEl =\n",
              "        document.querySelector('#df-a4fd76bb-8f93-401e-ac65-0fe821ba8a58 button.colab-df-convert');\n",
              "      buttonEl.style.display =\n",
              "        google.colab.kernel.accessAllowed ? 'block' : 'none';\n",
              "\n",
              "      async function convertToInteractive(key) {\n",
              "        const element = document.querySelector('#df-a4fd76bb-8f93-401e-ac65-0fe821ba8a58');\n",
              "        const dataTable =\n",
              "          await google.colab.kernel.invokeFunction('convertToInteractive',\n",
              "                                                    [key], {});\n",
              "        if (!dataTable) return;\n",
              "\n",
              "        const docLinkHtml = 'Like what you see? Visit the ' +\n",
              "          '<a target=\"_blank\" href=https://colab.research.google.com/notebooks/data_table.ipynb>data table notebook</a>'\n",
              "          + ' to learn more about interactive tables.';\n",
              "        element.innerHTML = '';\n",
              "        dataTable['output_type'] = 'display_data';\n",
              "        await google.colab.output.renderOutput(dataTable, element);\n",
              "        const docLink = document.createElement('div');\n",
              "        docLink.innerHTML = docLinkHtml;\n",
              "        element.appendChild(docLink);\n",
              "      }\n",
              "    </script>\n",
              "  </div>\n",
              "\n",
              "\n",
              "<div id=\"df-3ab2385a-d374-426d-b29c-1a4b2008fbae\">\n",
              "  <button class=\"colab-df-quickchart\" onclick=\"quickchart('df-3ab2385a-d374-426d-b29c-1a4b2008fbae')\"\n",
              "            title=\"Suggest charts\"\n",
              "            style=\"display:none;\">\n",
              "\n",
              "<svg xmlns=\"http://www.w3.org/2000/svg\" height=\"24px\"viewBox=\"0 0 24 24\"\n",
              "     width=\"24px\">\n",
              "    <g>\n",
              "        <path d=\"M19 3H5c-1.1 0-2 .9-2 2v14c0 1.1.9 2 2 2h14c1.1 0 2-.9 2-2V5c0-1.1-.9-2-2-2zM9 17H7v-7h2v7zm4 0h-2V7h2v10zm4 0h-2v-4h2v4z\"/>\n",
              "    </g>\n",
              "</svg>\n",
              "  </button>\n",
              "\n",
              "<style>\n",
              "  .colab-df-quickchart {\n",
              "      --bg-color: #E8F0FE;\n",
              "      --fill-color: #1967D2;\n",
              "      --hover-bg-color: #E2EBFA;\n",
              "      --hover-fill-color: #174EA6;\n",
              "      --disabled-fill-color: #AAA;\n",
              "      --disabled-bg-color: #DDD;\n",
              "  }\n",
              "\n",
              "  [theme=dark] .colab-df-quickchart {\n",
              "      --bg-color: #3B4455;\n",
              "      --fill-color: #D2E3FC;\n",
              "      --hover-bg-color: #434B5C;\n",
              "      --hover-fill-color: #FFFFFF;\n",
              "      --disabled-bg-color: #3B4455;\n",
              "      --disabled-fill-color: #666;\n",
              "  }\n",
              "\n",
              "  .colab-df-quickchart {\n",
              "    background-color: var(--bg-color);\n",
              "    border: none;\n",
              "    border-radius: 50%;\n",
              "    cursor: pointer;\n",
              "    display: none;\n",
              "    fill: var(--fill-color);\n",
              "    height: 32px;\n",
              "    padding: 0;\n",
              "    width: 32px;\n",
              "  }\n",
              "\n",
              "  .colab-df-quickchart:hover {\n",
              "    background-color: var(--hover-bg-color);\n",
              "    box-shadow: 0 1px 2px rgba(60, 64, 67, 0.3), 0 1px 3px 1px rgba(60, 64, 67, 0.15);\n",
              "    fill: var(--button-hover-fill-color);\n",
              "  }\n",
              "\n",
              "  .colab-df-quickchart-complete:disabled,\n",
              "  .colab-df-quickchart-complete:disabled:hover {\n",
              "    background-color: var(--disabled-bg-color);\n",
              "    fill: var(--disabled-fill-color);\n",
              "    box-shadow: none;\n",
              "  }\n",
              "\n",
              "  .colab-df-spinner {\n",
              "    border: 2px solid var(--fill-color);\n",
              "    border-color: transparent;\n",
              "    border-bottom-color: var(--fill-color);\n",
              "    animation:\n",
              "      spin 1s steps(1) infinite;\n",
              "  }\n",
              "\n",
              "  @keyframes spin {\n",
              "    0% {\n",
              "      border-color: transparent;\n",
              "      border-bottom-color: var(--fill-color);\n",
              "      border-left-color: var(--fill-color);\n",
              "    }\n",
              "    20% {\n",
              "      border-color: transparent;\n",
              "      border-left-color: var(--fill-color);\n",
              "      border-top-color: var(--fill-color);\n",
              "    }\n",
              "    30% {\n",
              "      border-color: transparent;\n",
              "      border-left-color: var(--fill-color);\n",
              "      border-top-color: var(--fill-color);\n",
              "      border-right-color: var(--fill-color);\n",
              "    }\n",
              "    40% {\n",
              "      border-color: transparent;\n",
              "      border-right-color: var(--fill-color);\n",
              "      border-top-color: var(--fill-color);\n",
              "    }\n",
              "    60% {\n",
              "      border-color: transparent;\n",
              "      border-right-color: var(--fill-color);\n",
              "    }\n",
              "    80% {\n",
              "      border-color: transparent;\n",
              "      border-right-color: var(--fill-color);\n",
              "      border-bottom-color: var(--fill-color);\n",
              "    }\n",
              "    90% {\n",
              "      border-color: transparent;\n",
              "      border-bottom-color: var(--fill-color);\n",
              "    }\n",
              "  }\n",
              "</style>\n",
              "\n",
              "  <script>\n",
              "    async function quickchart(key) {\n",
              "      const quickchartButtonEl =\n",
              "        document.querySelector('#' + key + ' button');\n",
              "      quickchartButtonEl.disabled = true;  // To prevent multiple clicks.\n",
              "      quickchartButtonEl.classList.add('colab-df-spinner');\n",
              "      try {\n",
              "        const charts = await google.colab.kernel.invokeFunction(\n",
              "            'suggestCharts', [key], {});\n",
              "      } catch (error) {\n",
              "        console.error('Error during call to suggestCharts:', error);\n",
              "      }\n",
              "      quickchartButtonEl.classList.remove('colab-df-spinner');\n",
              "      quickchartButtonEl.classList.add('colab-df-quickchart-complete');\n",
              "    }\n",
              "    (() => {\n",
              "      let quickchartButtonEl =\n",
              "        document.querySelector('#df-3ab2385a-d374-426d-b29c-1a4b2008fbae button');\n",
              "      quickchartButtonEl.style.display =\n",
              "        google.colab.kernel.accessAllowed ? 'block' : 'none';\n",
              "    })();\n",
              "  </script>\n",
              "</div>\n",
              "\n",
              "    </div>\n",
              "  </div>\n"
            ],
            "application/vnd.google.colaboratory.intrinsic+json": {
              "type": "dataframe",
              "variable_name": "tourism_df",
              "summary": "{\n  \"name\": \"tourism_df\",\n  \"rows\": 268,\n  \"fields\": [\n    {\n      \"column\": \"Nama Akun\",\n      \"properties\": {\n        \"dtype\": \"string\",\n        \"num_unique_values\": 268,\n        \"samples\": [\n          \"Arina Kamalina\",\n          \"Mr Dandi\",\n          \"M Solihin\"\n        ],\n        \"semantic_type\": \"\",\n        \"description\": \"\"\n      }\n    },\n    {\n      \"column\": \"Destinasi 1\",\n      \"properties\": {\n        \"dtype\": \"category\",\n        \"num_unique_values\": 7,\n        \"samples\": [\n          \"Pura Pakualaman\",\n          \"Masjid Agung Demak\",\n          \"Makam Sunan Bayat Ki Ageng Pandanaran\"\n        ],\n        \"semantic_type\": \"\",\n        \"description\": \"\"\n      }\n    },\n    {\n      \"column\": \"Destinasi 2\",\n      \"properties\": {\n        \"dtype\": \"category\",\n        \"num_unique_values\": 7,\n        \"samples\": [\n          \"Masjid Agung Demak\",\n          \"Masjid Al-Aqsha Menara Kudus\",\n          \"Makam Sunan Muria\"\n        ],\n        \"semantic_type\": \"\",\n        \"description\": \"\"\n      }\n    },\n    {\n      \"column\": \"Destinasi 3\",\n      \"properties\": {\n        \"dtype\": \"category\",\n        \"num_unique_values\": 5,\n        \"samples\": [\n          \"Pasujudan Sunan Bonang, Makam Putri Champa\",\n          \"Makam Sunan Muria\",\n          \"Makam Sunan Bayat Ki Ageng Pandanaran\"\n        ],\n        \"semantic_type\": \"\",\n        \"description\": \"\"\n      }\n    }\n  ]\n}"
            }
          },
          "metadata": {},
          "execution_count": 144
        }
      ]
    },
    {
      "cell_type": "code",
      "source": [
        "tourism_df.to_csv(\"Dataset Tourist Destination APIFY With Waktu Kunjungan.csv\", index=False)"
      ],
      "metadata": {
        "id": "rXKkAOxQ9x5u"
      },
      "execution_count": null,
      "outputs": []
    },
    {
      "cell_type": "markdown",
      "source": [
        "### Processing Network Science"
      ],
      "metadata": {
        "id": "ClZBjWGJpn2o"
      }
    },
    {
      "cell_type": "code",
      "source": [
        "import networkx as nx\n",
        "import matplotlib.pyplot as plt"
      ],
      "metadata": {
        "id": "DHBS0LBg6f8Y"
      },
      "execution_count": null,
      "outputs": []
    },
    {
      "cell_type": "markdown",
      "source": [
        "Membuat Edge dan Node Terarah"
      ],
      "metadata": {
        "id": "ptz9BG4YV0Ym"
      }
    },
    {
      "cell_type": "code",
      "source": [
        "edge_data = pd.DataFrame(tourism_df.drop('Nama Akun', axis=1))"
      ],
      "metadata": {
        "id": "ZR0jM2rRHpCX"
      },
      "execution_count": null,
      "outputs": []
    },
    {
      "cell_type": "code",
      "source": [
        "G = nx.DiGraph()  # Gunakan nx.DiGraph() jika graf terarah\n",
        "\n",
        "# Menambahkan edge dengan bobot\n",
        "for index, row in edge_data.iterrows():\n",
        "    # G.add_edge(row['Destinasi 1'],row['Destinasi 2'], weight=row['weight'])\n",
        "\n",
        "    # List destinasi yang tidak null\n",
        "    # destinations = [row['Destinasi 1'], row['Destinasi 2'], row['Destinasi 3'], row['Destinasi 4'], row['Destinasi 5'], row['Destinasi 6'], row['Destinasi 7'], row['Destinasi 8'], row['Destinasi 9'], row['Destinasi 10'], row['Destinasi 11'], row['Destinasi 12'], row['Destinasi 13'], row['Destinasi 14'], row['Destinasi 15']]\n",
        "    # destinations = [row['Destinasi 1'], row['Destinasi 2'], row['Destinasi 3'], row['Destinasi 4'], row['Destinasi 5'], row['Destinasi 6'], row['Destinasi 7'], row['Destinasi 8'], row['Destinasi 9'], row['Destinasi 10'], row['Destinasi 11'], row['Destinasi 12'], row['Destinasi 13'], row['Destinasi 14']]\n",
        "    # destinations = [row['Destinasi 1'], row['Destinasi 2'], row['Destinasi 3'], row['Destinasi 4'], row['Destinasi 5'], row['Destinasi 6'], row['Destinasi 7'], row['Destinasi 8'], row['Destinasi 9'], row['Destinasi 10'], row['Destinasi 11']]\n",
        "    # destinations = [row['Destinasi 1'], row['Destinasi 2'], row['Destinasi 3'], row['Destinasi 4'], row['Destinasi 5'], row['Destinasi 6']]\n",
        "    destinations = [row['Destinasi 1'], row['Destinasi 2'], row['Destinasi 3']]\n",
        "\n",
        "    # Hanya ambil destinasi yang tidak null\n",
        "    destinations = [d for d in destinations if pd.notnull(d)]\n",
        "\n",
        "    # Menambahkan edge antara setiap destinasi yang ada\n",
        "    for i in range(len(destinations) - 1):\n",
        "        G.add_edge(destinations[i], destinations[i + 1])  # Menambahkan edge antara destinasi i dan i+1\n",
        "\n",
        "\n",
        "# Tampilkan beberapa node dan edge\n",
        "print(\"Nodes:\", G.nodes())\n",
        "print(\"Edges:\", G.edges(data=True))"
      ],
      "metadata": {
        "colab": {
          "base_uri": "https://localhost:8080/"
        },
        "id": "FS7SQsBT63qr",
        "outputId": "5b531df0-39c4-4f41-9c91-7a405a3718b2"
      },
      "execution_count": null,
      "outputs": [
        {
          "output_type": "stream",
          "name": "stdout",
          "text": [
            "Nodes: ['Pura Pakualaman', 'Masjid Agung Demak', 'Masjid Al-Aqsha Menara Kudus', 'Pasujudan Sunan Bonang, Makam Putri Champa', 'Masjid Sunan Kalijaga Kadilangu Demak', 'Makam Sunan Muria', 'Makam Sunan Bayat Ki Ageng Pandanaran']\n",
            "Edges: [('Pura Pakualaman', 'Masjid Agung Demak', {}), ('Pura Pakualaman', 'Makam Sunan Bayat Ki Ageng Pandanaran', {}), ('Pura Pakualaman', 'Masjid Al-Aqsha Menara Kudus', {}), ('Masjid Agung Demak', 'Masjid Al-Aqsha Menara Kudus', {}), ('Masjid Agung Demak', 'Pasujudan Sunan Bonang, Makam Putri Champa', {}), ('Masjid Agung Demak', 'Masjid Sunan Kalijaga Kadilangu Demak', {}), ('Masjid Agung Demak', 'Makam Sunan Muria', {}), ('Masjid Agung Demak', 'Makam Sunan Bayat Ki Ageng Pandanaran', {}), ('Masjid Al-Aqsha Menara Kudus', 'Pasujudan Sunan Bonang, Makam Putri Champa', {}), ('Masjid Al-Aqsha Menara Kudus', 'Makam Sunan Bayat Ki Ageng Pandanaran', {}), ('Masjid Al-Aqsha Menara Kudus', 'Masjid Agung Demak', {}), ('Masjid Al-Aqsha Menara Kudus', 'Makam Sunan Muria', {}), ('Masjid Al-Aqsha Menara Kudus', 'Masjid Sunan Kalijaga Kadilangu Demak', {}), ('Masjid Al-Aqsha Menara Kudus', 'Pura Pakualaman', {}), ('Pasujudan Sunan Bonang, Makam Putri Champa', 'Masjid Al-Aqsha Menara Kudus', {}), ('Pasujudan Sunan Bonang, Makam Putri Champa', 'Masjid Agung Demak', {}), ('Masjid Sunan Kalijaga Kadilangu Demak', 'Masjid Al-Aqsha Menara Kudus', {}), ('Masjid Sunan Kalijaga Kadilangu Demak', 'Masjid Agung Demak', {}), ('Masjid Sunan Kalijaga Kadilangu Demak', 'Makam Sunan Muria', {}), ('Makam Sunan Muria', 'Masjid Agung Demak', {}), ('Makam Sunan Muria', 'Masjid Al-Aqsha Menara Kudus', {}), ('Makam Sunan Muria', 'Makam Sunan Bayat Ki Ageng Pandanaran', {}), ('Makam Sunan Muria', 'Pasujudan Sunan Bonang, Makam Putri Champa', {}), ('Makam Sunan Bayat Ki Ageng Pandanaran', 'Masjid Agung Demak', {}), ('Makam Sunan Bayat Ki Ageng Pandanaran', 'Masjid Al-Aqsha Menara Kudus', {}), ('Makam Sunan Bayat Ki Ageng Pandanaran', 'Pasujudan Sunan Bonang, Makam Putri Champa', {})]\n"
          ]
        }
      ]
    },
    {
      "cell_type": "code",
      "source": [
        "# Menghitung degree centrality\n",
        "degree_centrality = nx.degree_centrality(G)\n",
        "\n",
        "# Menghitung betweenness centrality\n",
        "betweenness_centrality = nx.betweenness_centrality(G)\n",
        "\n",
        "# Menambahkan atribut centrality ke node\n",
        "for node in G.nodes():\n",
        "    G.nodes[node]['degree_centrality'] = degree_centrality[node]\n",
        "    G.nodes[node]['betweenness_centrality'] = betweenness_centrality[node]\n",
        "\n",
        "# Simpan graf ke file GEXF dengan centrality sebagai atribut\n",
        "output_file = \"graph_with_centrality.gexf\"\n",
        "nx.write_gexf(G, output_file)"
      ],
      "metadata": {
        "id": "Q7s2sVPpNoph"
      },
      "execution_count": null,
      "outputs": []
    },
    {
      "cell_type": "markdown",
      "source": [
        "### Degree Centrality"
      ],
      "metadata": {
        "id": "RBNbuOxr7Hk0"
      }
    },
    {
      "cell_type": "code",
      "source": [
        "degree_centrality = nx.degree_centrality(G)\n",
        "\n",
        "# Mengurutkan degree centrality dari yang terbesar ke terkecil\n",
        "sorted_centrality = sorted(degree_centrality.items(), key=lambda x: x[1], reverse=True)\n",
        "\n",
        "# Menampilkan hasil yang sudah diurutkan\n",
        "for node, centrality in sorted_centrality:\n",
        "    print(f\"{node}: {centrality}\")"
      ],
      "metadata": {
        "colab": {
          "base_uri": "https://localhost:8080/"
        },
        "id": "e4r2tv3R7Eyw",
        "outputId": "3a14a272-3af1-4c98-f012-4f5b1bed46b0"
      },
      "execution_count": null,
      "outputs": [
        {
          "output_type": "stream",
          "name": "stdout",
          "text": [
            "Masjid Al-Aqsha Menara Kudus: 2.0\n",
            "Masjid Agung Demak: 1.8333333333333333\n",
            "Makam Sunan Muria: 1.1666666666666665\n",
            "Makam Sunan Bayat Ki Ageng Pandanaran: 1.1666666666666665\n",
            "Pasujudan Sunan Bonang, Makam Putri Champa: 1.0\n",
            "Masjid Sunan Kalijaga Kadilangu Demak: 0.8333333333333333\n",
            "Pura Pakualaman: 0.6666666666666666\n"
          ]
        }
      ]
    },
    {
      "cell_type": "markdown",
      "source": [
        "### Betweenness Centrality"
      ],
      "metadata": {
        "id": "5WjY9AXX7Pns"
      }
    },
    {
      "cell_type": "code",
      "source": [
        "betweenness_centrality = nx.betweenness_centrality(G)\n",
        "\n",
        "# Mengurutkan betweenness centrality dari yang terbesar ke terkecil\n",
        "sorted_betweenness = sorted(betweenness_centrality.items(), key=lambda x: x[1], reverse=True)\n",
        "\n",
        "# Menampilkan hasil yang sudah diurutkan\n",
        "for node, centrality in sorted_betweenness:\n",
        "    print(f\"{node}: {centrality}\")"
      ],
      "metadata": {
        "colab": {
          "base_uri": "https://localhost:8080/"
        },
        "id": "NGfNdMGb7NXM",
        "outputId": "51f7f6de-d87d-4d73-c6d8-f7807ef5603b"
      },
      "execution_count": null,
      "outputs": [
        {
          "output_type": "stream",
          "name": "stdout",
          "text": [
            "Masjid Al-Aqsha Menara Kudus: 0.3333333333333333\n",
            "Masjid Agung Demak: 0.16666666666666666\n",
            "Makam Sunan Muria: 0.02222222222222222\n",
            "Makam Sunan Bayat Ki Ageng Pandanaran: 0.01111111111111111\n",
            "Pura Pakualaman: 0.0\n",
            "Pasujudan Sunan Bonang, Makam Putri Champa: 0.0\n",
            "Masjid Sunan Kalijaga Kadilangu Demak: 0.0\n"
          ]
        }
      ]
    },
    {
      "cell_type": "markdown",
      "source": [
        "### Node Visualization"
      ],
      "metadata": {
        "id": "Nu5jvZmX79LI"
      }
    },
    {
      "cell_type": "code",
      "source": [
        "import matplotlib.pyplot as plt\n",
        "import matplotlib as mpl\n",
        "\n",
        "# Tentukan layout untuk node\n",
        "pos = nx.spring_layout(G, k=0.5, iterations=200)  # Ubah k untuk mempengaruhi jarak antar node\n",
        "\n",
        "# Menentukan ukuran node berdasarkan degree centrality\n",
        "node_size = [v * 1000 for v in degree_centrality.values()]\n",
        "\n",
        "# Menentukan warna node berdasarkan betweenness centrality\n",
        "node_color = list(betweenness_centrality.values())\n",
        "\n",
        "plt.figure(figsize=(12, 8))\n",
        "\n",
        "# Gambar graf\n",
        "nodes = nx.draw_networkx_nodes(\n",
        "    G,\n",
        "    pos,\n",
        "    node_size=node_size,\n",
        "    node_color=node_color,\n",
        "    cmap=plt.cm.viridis,\n",
        "    alpha=0.7\n",
        ")\n",
        "\n",
        "# Gambar edges\n",
        "nx.draw_networkx_edges(G, pos, edge_color='gray', alpha=0.5)\n",
        "\n",
        "# Tambahkan label pada node\n",
        "labels = {node: node for node in G.nodes()}\n",
        "nx.draw_networkx_labels(G, pos, labels=labels, font_size=10, font_color='black', verticalalignment='bottom')\n",
        "\n",
        "# Buat ScalarMappable untuk colorbar\n",
        "sm = mpl.cm.ScalarMappable(cmap=plt.cm.viridis, norm=plt.Normalize(vmin=min(node_color), vmax=max(node_color)))\n",
        "sm.set_array([])  # Diperlukan untuk colorbar\n",
        "\n",
        "# Tambahkan colorbar ke plot\n",
        "plt.colorbar(sm, ax=plt.gca(), label='Betweenness Centrality')\n",
        "\n",
        "# Tambahkan judul dan hilangkan sumbu\n",
        "plt.title(\"Jaringan Pergerakan Wisatawan\")\n",
        "plt.axis('off')\n",
        "plt.show()"
      ],
      "metadata": {
        "colab": {
          "base_uri": "https://localhost:8080/",
          "height": 683
        },
        "id": "NjgQNLkG8Alo",
        "outputId": "05b59572-0116-44de-c58d-25a869b256ba"
      },
      "execution_count": null,
      "outputs": [
        {
          "output_type": "display_data",
          "data": {
            "text/plain": [
              "<Figure size 1200x800 with 2 Axes>"
            ],
            "image/png": "[encoded data removed]"
          },
          "metadata": {}
        }
      ]
    },
    {
      "cell_type": "markdown",
      "source": [
        "### Hub"
      ],
      "metadata": {
        "id": "6yh1ypft8J2R"
      }
    },
    {
      "cell_type": "code",
      "source": [
        "# Menentukan threshold atau mengambil N teratas\n",
        "top_degree = sorted(degree_centrality.items(), key=lambda x: x[1], reverse=True)[:5]\n",
        "top_betweenness = sorted(betweenness_centrality.items(), key=lambda x: x[1], reverse=True)[:5]\n",
        "\n",
        "print(\"Top 5 Degree Centrality:\")\n",
        "for node, centrality in top_degree:\n",
        "    print(f\"{node}: {centrality}\")\n",
        "\n",
        "print(\"\\nTop 5 Betweenness Centrality:\")\n",
        "for node, centrality in top_betweenness:\n",
        "    print(f\"{node}: {centrality}\")"
      ],
      "metadata": {
        "colab": {
          "base_uri": "https://localhost:8080/"
        },
        "id": "1pKYo7-18JMx",
        "outputId": "1ba27c1d-de40-4f66-e523-3ff4f16e57c9"
      },
      "execution_count": null,
      "outputs": [
        {
          "output_type": "stream",
          "name": "stdout",
          "text": [
            "Top 5 Degree Centrality:\n",
            "Mendut Buddhist Monastery: 2.0\n",
            "Borobudur Temple: 2.0\n",
            "Prambanan Temple: 2.0\n",
            "Ratu Boko Temple: 2.0\n",
            "Plaosan Lor Temple: 2.0\n",
            "\n",
            "Top 5 Betweenness Centrality:\n",
            "Mendut Buddhist Monastery: 0.0\n",
            "Borobudur Temple: 0.0\n",
            "Prambanan Temple: 0.0\n",
            "Ratu Boko Temple: 0.0\n",
            "Plaosan Lor Temple: 0.0\n"
          ]
        }
      ]
    },
    {
      "cell_type": "markdown",
      "source": [
        "# **Semantic Network Analysis**"
      ],
      "metadata": {
        "id": "EHh_Rjd1Zs37"
      }
    },
    {
      "cell_type": "markdown",
      "source": [
        "### Pre-Processing Dataset"
      ],
      "metadata": {
        "id": "asreK3yoqtiF"
      }
    },
    {
      "cell_type": "markdown",
      "source": [
        "Import Dataset Google Maps"
      ],
      "metadata": {
        "id": "yEcAakq3Z2cS"
      }
    },
    {
      "cell_type": "code",
      "source": [
        "# Membaca semua file CSV di dalam folder dan menggabungkannya\n",
        "all_files = glob.glob(os.path.join(folder_path_GoogleMaps, \"*.csv\"))\n",
        "\n",
        "if not all_files:\n",
        "    print(\"Tidak ada file CSV di dalam folder.\")\n",
        "    gmaps_df = pd.DataFrame(columns=['Nama Akun', 'Waktu Kunjungan', 'Rating', 'Komentar', 'Lokasi Wisata'])\n",
        "else:\n",
        "    data_frames = [pd.read_csv(file) for file in all_files]\n",
        "\n",
        "    # Menggabungkan semua DataFrame menjadi satu\n",
        "    gmaps_raw_df = pd.concat(data_frames, ignore_index=True)\n",
        "\n",
        "    # Membuat DataFrame dengan kolom yang diinginkan\n",
        "    gmaps_df = pd.DataFrame({\n",
        "      'Nama Akun': gmaps_raw_df['name'],\n",
        "      'Waktu Kunjungan': gmaps_raw_df['publishedAtDate'],\n",
        "      'Rating': gmaps_raw_df['stars'],\n",
        "      'Komentar': gmaps_raw_df.apply(\n",
        "          lambda row: row['textTranslated'] if pd.notna(row['textTranslated']) and row['textTranslated'].strip() else row['text'],\n",
        "          axis=1\n",
        "      ),\n",
        "      'Lokasi Wisata': gmaps_raw_df['title']\n",
        "    })"
      ],
      "metadata": {
        "colab": {
          "base_uri": "https://localhost:8080/"
        },
        "id": "Jm3Xvs6F0nwN",
        "outputId": "cff0d4e4-e908-453e-f90f-d9593017b456"
      },
      "execution_count": 10,
      "outputs": [
        {
          "output_type": "stream",
          "name": "stdout",
          "text": [
            "Tidak ada file CSV di dalam folder.\n"
          ]
        }
      ]
    },
    {
      "cell_type": "markdown",
      "source": [
        "Import Dataset TripAdvisor"
      ],
      "metadata": {
        "id": "2Ac77KOkZ6Tx"
      }
    },
    {
      "cell_type": "code",
      "source": [
        "# Membaca semua file JSON di dalam folder dan menggabungkannya\n",
        "all_files_JSON = glob.glob(os.path.join(folder_path_TripAdvisor_JSON, \"*.json\"))\n",
        "\n",
        "if not all_files_JSON:\n",
        "    print(\"Tidak ada file CSV di dalam folder.\")\n",
        "    tripadvisor_df_JSON = pd.DataFrame(columns=['Nama Akun', 'Waktu Kunjungan', 'Rating', 'Komentar', 'Lokasi Wisata'])\n",
        "else:\n",
        "    data_frames = []\n",
        "\n",
        "    for file in all_files_JSON:\n",
        "        with open(file, 'r', encoding='utf-8') as f:\n",
        "            data = json.load(f)\n",
        "            df = pd.json_normalize(data)\n",
        "            data_frames.append(df)\n",
        "\n",
        "    # Menggabungkan semua DataFrame menjadi satu\n",
        "    tripadvisor_raw_df_JSON = pd.concat(data_frames, ignore_index=True)\n",
        "\n",
        "    tripadvisor_raw_df_JSON['placeInfo.name'] = np.where(\n",
        "        (tripadvisor_raw_df_JSON['placeInfo.name'] == \"Museum RA Kartini\") & (tripadvisor_raw_df_JSON['placeInfo.locationString'] == \"Jepara, Central Java, Java\"),\n",
        "        \"Museum R.A. Kartini Jepara\",\n",
        "        np.where(\n",
        "            tripadvisor_raw_df_JSON['placeInfo.name'] == \"Museum RA Kartini\",\n",
        "            \"Museum R.A. Kartini Rembang\",\n",
        "            tripadvisor_raw_df_JSON['placeInfo.name']\n",
        "        )\n",
        "    )\n",
        "\n",
        "    # Membuat DataFrame dengan kolom yang diinginkan\n",
        "    tripadvisor_df_JSON = pd.DataFrame({\n",
        "        'Nama Akun': tripadvisor_raw_df_JSON['user.name'],\n",
        "        'Waktu Kunjungan': tripadvisor_raw_df_JSON['publishedDate'],\n",
        "        'Rating': tripadvisor_raw_df_JSON['rating'],\n",
        "        'Komentar': tripadvisor_raw_df_JSON['text'],\n",
        "        'Lokasi Wisata': tripadvisor_raw_df_JSON['placeInfo.name']\n",
        "    })"
      ],
      "metadata": {
        "id": "M2Y0JGw8Z8dx",
        "colab": {
          "base_uri": "https://localhost:8080/"
        },
        "outputId": "83793ae3-ec99-45c1-b04a-d4a1a638e24f"
      },
      "execution_count": 11,
      "outputs": [
        {
          "output_type": "stream",
          "name": "stdout",
          "text": [
            "Tidak ada file CSV di dalam folder.\n"
          ]
        }
      ]
    },
    {
      "cell_type": "code",
      "source": [
        "# Mengambil semua file CSV dalam folder\n",
        "all_files_CSV = glob.glob(os.path.join(folder_path_TripAdvisor_CSV, \"*.csv\"))\n",
        "\n",
        "# Cek apakah ada file CSV dalam folder\n",
        "if not all_files_CSV:\n",
        "    print(\"Tidak ada file CSV di dalam folder.\")\n",
        "    tripadvisor_df_CSV = pd.DataFrame(columns=['Nama Akun', 'Waktu Kunjungan', 'Rating', 'Komentar', 'Lokasi Wisata'])\n",
        "else:\n",
        "    # Membaca dan menggabungkan semua file CSV\n",
        "    data_frames = [pd.read_csv(file) for file in all_files_CSV]\n",
        "    tripadvisor_raw_df_CSV = pd.concat(data_frames, ignore_index=True)\n",
        "\n",
        "    # Membuat DataFrame dengan kolom yang diinginkan\n",
        "    tripadvisor_df_CSV = pd.DataFrame({\n",
        "        'Nama Akun': tripadvisor_raw_df_CSV['username'],\n",
        "        'Waktu Kunjungan': tripadvisor_raw_df_CSV['publishedDate'],\n",
        "        'Rating': tripadvisor_raw_df_CSV['rating'],\n",
        "        'Komentar': tripadvisor_raw_df_CSV['text'],\n",
        "        'Lokasi Wisata': tripadvisor_raw_df_CSV['placeName']\n",
        "    })\n",
        "\n",
        "    print(\"Data berhasil digabungkan.\")"
      ],
      "metadata": {
        "id": "ko6k2rN-H6n6",
        "colab": {
          "base_uri": "https://localhost:8080/"
        },
        "outputId": "d6ad05de-a190-44c8-a8d2-3d1af4ad0411"
      },
      "execution_count": 12,
      "outputs": [
        {
          "output_type": "stream",
          "name": "stdout",
          "text": [
            "Tidak ada file CSV di dalam folder.\n"
          ]
        }
      ]
    },
    {
      "cell_type": "code",
      "source": [
        "tripadvisor_df = pd.concat([tripadvisor_df_CSV, tripadvisor_df_JSON], ignore_index=True)"
      ],
      "metadata": {
        "id": "QoKTPaKzaBmR"
      },
      "execution_count": 13,
      "outputs": []
    },
    {
      "cell_type": "markdown",
      "source": [
        "Normalisasi Kolom Lokasi Wisata"
      ],
      "metadata": {
        "id": "27wZTltDaDYT"
      }
    },
    {
      "cell_type": "code",
      "source": [
        "gmaps_df[\"Lokasi Wisata\"] = gmaps_df[\"Lokasi Wisata\"].replace(\"MAKAM SUNAN POJOK ꦩꦏꦩ꧀ꦱꦸꦤꦤ꧀ꦥꦴꦗꦴꦏ꧀\", \"Makam Sunan Pojok\")\n",
        "gmaps_df[\"Lokasi Wisata\"] = gmaps_df[\"Lokasi Wisata\"].replace(\"Candi Pendem Sengi\", \"Pendem Sengi Temple\")\n",
        "gmaps_df[\"Lokasi Wisata\"] = gmaps_df[\"Lokasi Wisata\"].replace(\"Gondosuli Temple And Inscription\", \"Gondosuli Temple\")\n",
        "gmaps_df[\"Lokasi Wisata\"] = gmaps_df[\"Lokasi Wisata\"].replace(\"MAKAM GEDONG AGENG Jipang\", \"Makam Gedong Ageng Jipang\")\n",
        "gmaps_df[\"Lokasi Wisata\"] = gmaps_df[\"Lokasi Wisata\"].replace(\"MAKAM SYECH JANGKUNG (SARIDIN) WALIYUALLAH\", \"Makam Syaikh Jangkung Waliyuallah\")\n",
        "gmaps_df[\"Lokasi Wisata\"] = gmaps_df[\"Lokasi Wisata\"].replace(\"Tomb of Queen Kalinyamat\", \"Makam Ratu Kalinyamat\")\n",
        "gmaps_df[\"Lokasi Wisata\"] = gmaps_df[\"Lokasi Wisata\"].replace(\"Tomb of R.Ng. Yasadipura I\", \"Makam R.Ng. Yasadipura I\")\n",
        "gmaps_df[\"Lokasi Wisata\"] = gmaps_df[\"Lokasi Wisata\"].replace(\"Tomb of Sunan Katong Kaliwungu\", \"Makam Sunan Katong Kaliwungu\")\n",
        "gmaps_df[\"Lokasi Wisata\"] = gmaps_df[\"Lokasi Wisata\"].replace(\"Tomb of Sunan Muria\", \"Makam Sunan Muria\")\n",
        "gmaps_df[\"Lokasi Wisata\"] = gmaps_df[\"Lokasi Wisata\"].replace(\"Tomb of Waliyyulloh Syeikh Maulana Jumadil Kubro\", \"Makam Syaikh Maulana Jumadil Kubro\")\n",
        "gmaps_df[\"Lokasi Wisata\"] = gmaps_df[\"Lokasi Wisata\"].replace(\"Makam syech Munadi nyatnyono\", \"Makam Syaikh Munadi Nyatnyono\")\n",
        "gmaps_df[\"Lokasi Wisata\"] = gmaps_df[\"Lokasi Wisata\"].replace(\"Maqbaroh Syaikh Mutamakkin Waliyyullah\", \"Makam Syaikh Mutamakkin Waliyyullah\")\n",
        "gmaps_df[\"Lokasi Wisata\"] = gmaps_df[\"Lokasi Wisata\"].replace(\"Museum RA Kartini\", \"Museum R.A. Kartini Jepara\")"
      ],
      "metadata": {
        "id": "vq4GJ9SlaFWK"
      },
      "execution_count": null,
      "outputs": []
    },
    {
      "cell_type": "code",
      "source": [
        "tripadvisor_df[\"Lokasi Wisata\"] = tripadvisor_df[\"Lokasi Wisata\"].replace(\"Banyunibo\", \"Banyunibo Temple\")\n",
        "tripadvisor_df[\"Lokasi Wisata\"] = tripadvisor_df[\"Lokasi Wisata\"].replace(\"Candi Mendut (Temple)\", \"Mendut Buddhist Monastery\")\n",
        "tripadvisor_df[\"Lokasi Wisata\"] = tripadvisor_df[\"Lokasi Wisata\"].replace(\"Candi Pawon\", \"Pawon Temple\")\n",
        "tripadvisor_df[\"Lokasi Wisata\"] = tripadvisor_df[\"Lokasi Wisata\"].replace(\"Demak Great Mosque\", \"Masjid Agung Demak\")\n",
        "tripadvisor_df[\"Lokasi Wisata\"] = tripadvisor_df[\"Lokasi Wisata\"].replace(\"Imogiri Kings Cemetery\", \"Makam Raja-Raja Imogiri\")\n",
        "tripadvisor_df[\"Lokasi Wisata\"] = tripadvisor_df[\"Lokasi Wisata\"].replace(\"Makam Ra Kartini\", \"Makam Raden Ayu Kartini\")\n",
        "tripadvisor_df[\"Lokasi Wisata\"] = tripadvisor_df[\"Lokasi Wisata\"].replace(\"Mataram Kings Cemetery Kotagede\", \"Makam Raja-Raja Mataram Kotagede\")\n",
        "tripadvisor_df[\"Lokasi Wisata\"] = tripadvisor_df[\"Lokasi Wisata\"].replace(\"Menara Kudus Mosque\", \"Masjid Al-Aqsha Menara Kudus\")\n",
        "tripadvisor_df[\"Lokasi Wisata\"] = tripadvisor_df[\"Lokasi Wisata\"].replace(\"Museum Ranggawarsita\", \"Museum Ronggo Warsito\")\n",
        "tripadvisor_df[\"Lokasi Wisata\"] = tripadvisor_df[\"Lokasi Wisata\"].replace(\"Plaosan Temple\", \"Plaosan Lor Temple\")\n",
        "tripadvisor_df[\"Lokasi Wisata\"] = tripadvisor_df[\"Lokasi Wisata\"].replace(\"Sunan Bayat Ki Ageng Pandanaran Cemetery\", \"Makam Sunan Bayat Ki Ageng Pandanaran\")\n",
        "tripadvisor_df[\"Lokasi Wisata\"] = tripadvisor_df[\"Lokasi Wisata\"].replace(\"Sunan Bonang Tomb\", \"Makam Sunan Bonang Lasem\")\n",
        "tripadvisor_df[\"Lokasi Wisata\"] = tripadvisor_df[\"Lokasi Wisata\"].replace(\"Sunan kalijaga Tomb\", \"Makam Sunan Kalijaga\")\n",
        "tripadvisor_df[\"Lokasi Wisata\"] = tripadvisor_df[\"Lokasi Wisata\"].replace(\"Tomb of Sunan Muria\", \"Makam Sunan Muria\")\n",
        "tripadvisor_df[\"Lokasi Wisata\"] = tripadvisor_df[\"Lokasi Wisata\"].replace(\"Yogyakarta Palace\", \"Keraton Ngayogyakarta Hadiningrat\")\n",
        "tripadvisor_df[\"Lokasi Wisata\"] = tripadvisor_df[\"Lokasi Wisata\"].replace(\"Prambanan Temples\", \"Prambanan Temple\")"
      ],
      "metadata": {
        "id": "L-zFCydwaHKh"
      },
      "execution_count": null,
      "outputs": []
    },
    {
      "cell_type": "markdown",
      "source": [
        "Menggabungkan Dataset Google Maps dan TripAdvisor"
      ],
      "metadata": {
        "id": "XBGszH5faSHx"
      }
    },
    {
      "cell_type": "code",
      "source": [
        "review_df = pd.concat([gmaps_df, tripadvisor_df], ignore_index=True)"
      ],
      "metadata": {
        "id": "D5GnqL3xaMfC"
      },
      "execution_count": null,
      "outputs": []
    },
    {
      "cell_type": "markdown",
      "source": [
        "Drop Missing Values dan Duplicate Values"
      ],
      "metadata": {
        "id": "cx-R99jMaN_N"
      }
    },
    {
      "cell_type": "code",
      "source": [
        "review_df = review_df.dropna()"
      ],
      "metadata": {
        "id": "UJBbX7v0aSyR"
      },
      "execution_count": null,
      "outputs": []
    },
    {
      "cell_type": "code",
      "source": [
        "review_df = review_df.drop_duplicates()"
      ],
      "metadata": {
        "id": "HitIiHYWaUt5"
      },
      "execution_count": null,
      "outputs": []
    },
    {
      "cell_type": "markdown",
      "source": [
        "Normalisasi Waktu Kunjungan"
      ],
      "metadata": {
        "id": "Ncz4T847aVYB"
      }
    },
    {
      "cell_type": "code",
      "source": [
        "from datetime import datetime\n",
        "\n",
        "# Fungsi normalisasi tanggal\n",
        "def normalize_date(date):\n",
        "    try:\n",
        "        # Coba format pertama (DD/MM/YYYY)\n",
        "        normalized_date = datetime.strptime(date, \"%d/%m/%Y\")\n",
        "    except ValueError:\n",
        "        try:\n",
        "            # Coba format kedua (ISO 8601 dengan Z di akhir)\n",
        "            normalized_date = datetime.strptime(date, \"%Y-%m-%dT%H:%M:%S.%fZ\")\n",
        "        except ValueError:\n",
        "            try:\n",
        "                # Coba format kedua (ISO 8601 dengan Z di akhir)\n",
        "                normalized_date = datetime.strptime(date, \"%Y-%m-%d\")\n",
        "            except ValueError:\n",
        "                try:\n",
        "                    # Coba format kedua (ISO 8601 dengan Z di akhir)\n",
        "                    normalized_date = datetime.strptime(date, \"%m/%d/%Y\")\n",
        "                except ValueError:\n",
        "                    # Jika format tidak sesuai, kembalikan tanggal asli\n",
        "                    return date\n",
        "    # Format tanggal ke \"DD - MM - YYYY\"\n",
        "    return normalized_date.strftime(\"%d/%m/%Y\")\n",
        "\n",
        "# Terapkan fungsi normalisasi pada kolom 'Waktu Kunjungan'\n",
        "review_df['Waktu Kunjungan'] = review_df['Waktu Kunjungan'].apply(normalize_date)"
      ],
      "metadata": {
        "id": "py0nTbyhaXWR"
      },
      "execution_count": null,
      "outputs": []
    },
    {
      "cell_type": "markdown",
      "source": [
        "Lowercase Kolom Komentar"
      ],
      "metadata": {
        "id": "8q6Sr83Eanxm"
      }
    },
    {
      "cell_type": "code",
      "source": [
        "review_df[\"Komentar\"] = review_df[\"Komentar\"].str.lower()"
      ],
      "metadata": {
        "id": "yR54IaGraqO1"
      },
      "execution_count": null,
      "outputs": []
    },
    {
      "cell_type": "markdown",
      "source": [
        "Membersihkan Kolom 'Komentar' dari Simbol atau Non-Abjad"
      ],
      "metadata": {
        "id": "40ZvB8YyaZjV"
      }
    },
    {
      "cell_type": "code",
      "source": [
        "import nltk\n",
        "nltk.download('stopwords')\n",
        "nltk.download('punkt_tab')\n",
        "nltk.download('wordnet')\n",
        "nltk.download('words')\n",
        "\n",
        "from nltk.corpus import stopwords, words\n",
        "import re\n",
        "from nltk.tokenize import word_tokenize\n",
        "from nltk.stem import WordNetLemmatizer"
      ],
      "metadata": {
        "id": "IU9dyj-gahQy",
        "colab": {
          "base_uri": "https://localhost:8080/"
        },
        "outputId": "68a1d90b-e465-4b4e-ba41-ed8f9c3434ac"
      },
      "execution_count": null,
      "outputs": [
        {
          "output_type": "stream",
          "name": "stderr",
          "text": [
            "[nltk_data] Downloading package stopwords to /root/nltk_data...\n",
            "[nltk_data]   Unzipping corpora/stopwords.zip.\n",
            "[nltk_data] Downloading package punkt_tab to /root/nltk_data...\n",
            "[nltk_data]   Unzipping tokenizers/punkt_tab.zip.\n",
            "[nltk_data] Downloading package wordnet to /root/nltk_data...\n",
            "[nltk_data] Downloading package words to /root/nltk_data...\n",
            "[nltk_data]   Unzipping corpora/words.zip.\n"
          ]
        }
      ]
    },
    {
      "cell_type": "code",
      "source": [
        "# Load kata-kata dalam bahasa Inggris\n",
        "english_words = set(words.words())\n",
        "\n",
        "def clean_comment(comment):\n",
        "    # Ubah simbol seperti -, ,, . menjadi spasi dan hapus apapun yang bukan alphabet\n",
        "    comment = re.sub(r'[^a-zA-Z\\s]', ' ', comment)\n",
        "    comment = comment.lower()  # Ubah menjadi huruf kecil\n",
        "\n",
        "    # Tokenisasi\n",
        "    words_in_comment = word_tokenize(comment)\n",
        "\n",
        "    # Hapus stopwords dan kata yang bukan dalam bahasa Inggris\n",
        "    valid_words = [word for word in words_in_comment\n",
        "                   if word in english_words and len(word) > 1]\n",
        "\n",
        "    # Gabungkan kembali kata-kata yang valid\n",
        "    return ' '.join(valid_words)\n",
        "\n",
        "# Terapkan fungsi ke kolom 'Komentar'\n",
        "review_df['Komentar'] = review_df['Komentar'].apply(clean_comment)\n",
        "\n",
        "# Hapus baris yang kosong di kolom 'Komentar'\n",
        "review_df = review_df[review_df['Komentar'].str.strip() != '']"
      ],
      "metadata": {
        "id": "hSPzObVnalc5"
      },
      "execution_count": null,
      "outputs": []
    },
    {
      "cell_type": "markdown",
      "source": [
        "Remove Stopword & Lemmatize"
      ],
      "metadata": {
        "id": "suSi5JvDawfR"
      }
    },
    {
      "cell_type": "code",
      "source": [
        "# Inisialisasi lemmatizer dan stopwords\n",
        "lemmatizer = WordNetLemmatizer()\n",
        "stop_words = set(stopwords.words('english'))\n",
        "\n",
        "# Fungsi untuk menghapus stopwords dan lemmatization\n",
        "def preprocess_text(text):\n",
        "    # Tokenisasi kalimat\n",
        "    words = word_tokenize(text)\n",
        "    # Hapus stopwords dan lemmatization\n",
        "    processed_words = [lemmatizer.lemmatize(word.lower()) for word in words if word.lower() not in stop_words]\n",
        "    return \" \".join(processed_words)\n",
        "\n",
        "# Terapkan pada kolom 'Komentar' di review_df\n",
        "review_df['Komentar'] = review_df['Komentar'].apply(preprocess_text)"
      ],
      "metadata": {
        "id": "LIUu4m5Da1Zu"
      },
      "execution_count": null,
      "outputs": []
    },
    {
      "cell_type": "markdown",
      "source": [
        "Menyimpan File Dataset yang sudah bersih"
      ],
      "metadata": {
        "id": "b6eu53FSbZlF"
      }
    },
    {
      "cell_type": "code",
      "source": [
        "review_df.to_csv(\"Dataset Review APIFY.csv\", index=False)"
      ],
      "metadata": {
        "id": "oMs-yVXHarbB"
      },
      "execution_count": null,
      "outputs": []
    },
    {
      "cell_type": "code",
      "source": [
        "review_df = pd.read_csv(\"/content/Dataset Review APIFY.csv\", delimiter=\",\")"
      ],
      "metadata": {
        "id": "W6MHDwEYatF1"
      },
      "execution_count": null,
      "outputs": []
    },
    {
      "cell_type": "code",
      "source": [
        "from itertools import combinations\n",
        "import networkx as nx\n",
        "import matplotlib.pyplot as plt\n",
        "from collections import Counter"
      ],
      "metadata": {
        "id": "-9LdSZ1xcRKq"
      },
      "execution_count": null,
      "outputs": []
    },
    {
      "cell_type": "markdown",
      "source": [
        "### *Memilih Lokasi Wisata yang ingin di Semantic Analysis*"
      ],
      "metadata": {
        "id": "9K7fpxznCJ8_"
      }
    },
    {
      "cell_type": "markdown",
      "source": [
        "List Lokasi Wisata beserta jumlah review nya"
      ],
      "metadata": {
        "id": "MhEEnv0fDU3D"
      }
    },
    {
      "cell_type": "code",
      "source": [
        "location_counts = review_df[\"Lokasi Wisata\"].value_counts().sort_values(ascending=False)\n",
        "\n",
        "for i, (value, count) in enumerate(location_counts.items(), start=1):\n",
        "    print(f\"{i}. {value}: {count} Review\")"
      ],
      "metadata": {
        "colab": {
          "base_uri": "https://localhost:8080/"
        },
        "outputId": "c5218c15-162c-447b-f1d2-b313e2c3d5e2",
        "id": "YY-kQn2GDU3L"
      },
      "execution_count": null,
      "outputs": [
        {
          "output_type": "stream",
          "name": "stdout",
          "text": [
            "1. Prambanan Temple: 2980 Review\n",
            "2. Borobudur Temple: 2980 Review\n",
            "3. Keraton Ngayogyakarta Hadiningrat: 1416 Review\n"
          ]
        }
      ]
    },
    {
      "cell_type": "code",
      "source": [
        "semantic_location = 'Borobudur Temple'\n",
        "word_count = 10\n",
        "except_word = {\"get\", \"time\", \"go\", \"see\", \"one\", \"visit\", \"around\", \"also\", \"people\", \"take\", \"place\", \"day\", \"ticket\", \"still\"}"
      ],
      "metadata": {
        "id": "IYTyo21cCl4t"
      },
      "execution_count": null,
      "outputs": []
    },
    {
      "cell_type": "markdown",
      "source": [
        "### Semantic Network Analysis"
      ],
      "metadata": {
        "id": "1m4SQpnKa9PU"
      }
    },
    {
      "cell_type": "code",
      "source": [
        "# 1. Filter ulasan untuk Lokasi Wisata yang dipilih\n",
        "semantic_df = review_df[review_df[\"Lokasi Wisata\"] == semantic_location][\"Komentar\"]\n",
        "\n",
        "# 2. Tokenisasi manual (karena dataset sudah bersih)\n",
        "# Mengonversi setiap ulasan menjadi daftar kata\n",
        "tokenized_reviews = semantic_df.apply(lambda x: x.split())\n",
        "\n",
        "# 3. Hitung frekuensi setiap kata\n",
        "all_words = [word for tokens in tokenized_reviews for word in tokens if word not in except_word]\n",
        "word_frequency = Counter(all_words)\n",
        "\n",
        "# Ambil kata teratas berdasarkan frekuensi\n",
        "top_words = {word for word, freq in word_frequency.most_common(word_count)}\n",
        "\n",
        "# 4. Filter co-occurrence hanya untuk kata-kata teratas\n",
        "filtered_co_occurrence = {}\n",
        "for tokens in tokenized_reviews:\n",
        "    # Hanya gunakan kata-kata yang ada di top_words\n",
        "    filtered_tokens = [word for word in tokens if word in top_words]\n",
        "    for pair in combinations(set(filtered_tokens), 2):\n",
        "        pair = tuple(sorted(pair))\n",
        "        if pair in filtered_co_occurrence:\n",
        "            filtered_co_occurrence[pair] += 1\n",
        "        else:\n",
        "            filtered_co_occurrence[pair] = 1\n",
        "\n",
        "# 5. Buat jaringan hanya untuk kata-kata teratas\n",
        "G = nx.Graph()\n",
        "\n",
        "# Tambahkan edge berdasarkan co-occurrence\n",
        "for pair, weight in filtered_co_occurrence.items():\n",
        "    G.add_edge(pair[0], pair[1], weight=weight)\n",
        "\n",
        "# Tambahkan atribut frekuensi ke node\n",
        "for node in G.nodes():\n",
        "    G.nodes[node]['size'] = word_frequency[node]"
      ],
      "metadata": {
        "id": "At5GD5Jba4aq"
      },
      "execution_count": null,
      "outputs": []
    },
    {
      "cell_type": "code",
      "source": [
        "# Visualisasi Semantic Network dengan Penyesuaian Skala\n",
        "plt.figure(figsize=(12, 12))\n",
        "pos = nx.spring_layout(G, k=0.5)\n",
        "\n",
        "# Ukuran node berdasarkan frekuensi, diskalakan agar lebih kecil\n",
        "node_sizes = [G.nodes[node].get('size', 1) * 3 for node in G.nodes()]  # Disesuaikan skala\n",
        "\n",
        "# Ketebalan edges berdasarkan bobot co-occurrence, diskalakan agar lebih kecil\n",
        "edge_widths = [G[u][v]['weight'] * 0.03 for u, v in G.edges()]  # Disesuaikan skala\n",
        "\n",
        "# Kepekatan warna edges berdasarkan bobot (alpha)\n",
        "max_weight = max(nx.get_edge_attributes(G, 'weight').values())\n",
        "edge_alphas = [G[u][v]['weight'] / max_weight for u, v in G.edges()]  # Normalisasi bobot\n",
        "\n",
        "# Visualisasi graf\n",
        "edges = nx.draw_networkx_edges(\n",
        "    G, pos, width=edge_widths, alpha=0.7,\n",
        "    edge_cmap=plt.cm.Blues, edge_vmin=0, edge_vmax=1,\n",
        "    edge_color=edge_alphas  # Warna sesuai bobot yang dinormalisasi\n",
        ")\n",
        "nx.draw_networkx_nodes(G, pos, node_size=node_sizes, node_color='lightblue', alpha=0.9)\n",
        "nx.draw_networkx_labels(G, pos, font_size=20, font_color='black')\n",
        "\n",
        "# Membuat judul dengan lokasi wisata\n",
        "chart_title = f\"Semantic Network Analysis of {semantic_location} with Top {word_count} Words\"\n",
        "\n",
        "plt.title(chart_title)\n",
        "plt.colorbar(edges, label='Edge Weight')\n",
        "plt.show()"
      ],
      "metadata": {
        "colab": {
          "base_uri": "https://localhost:8080/",
          "height": 991
        },
        "id": "9sFfjY_MbC6d",
        "outputId": "a39e100a-d823-4fea-80ea-a4a09ae3f445"
      },
      "execution_count": null,
      "outputs": [
        {
          "output_type": "display_data",
          "data": {
            "text/plain": [
              "<Figure size 1200x1200 with 2 Axes>"
            ],
            "image/png": "[encoded data removed]"
          },
          "metadata": {}
        }
      ]
    }
  ],
  "metadata": {
    "colab": {
      "provenance": [],
      "collapsed_sections": [
        "04hZxYSQnnIk",
        "6G1a8SoYvIiE",
        "PhWk9flgoP68",
        "W4_J0OOyVdBC",
        "ikYrOKwopOnA",
        "ClZBjWGJpn2o",
        "RBNbuOxr7Hk0",
        "5WjY9AXX7Pns",
        "Nu5jvZmX79LI",
        "6yh1ypft8J2R",
        "EHh_Rjd1Zs37",
        "asreK3yoqtiF",
        "9K7fpxznCJ8_",
        "1m4SQpnKa9PU"
      ]
    },
    "kernelspec": {
      "display_name": "Python 3",
      "name": "python3"
    },
    "language_info": {
      "name": "python"
    }
  },
  "nbformat": 4,
  "nbformat_minor": 0
}